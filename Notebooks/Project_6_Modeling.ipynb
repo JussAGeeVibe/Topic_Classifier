{
  "nbformat": 4,
  "nbformat_minor": 5,
  "metadata": {
    "kernelspec": {
      "display_name": "Python 3",
      "language": "python",
      "name": "python3"
    },
    "language_info": {
      "codemirror_mode": {
        "name": "ipython",
        "version": 3
      },
      "file_extension": ".py",
      "mimetype": "text/x-python",
      "name": "python",
      "nbconvert_exporter": "python",
      "pygments_lexer": "ipython3",
      "version": "3.9.5"
    },
    "colab": {
      "name": "Project_6_Modeling.ipynb",
      "provenance": [],
      "machine_shape": "hm"
    }
  },
  "cells": [
    {
      "cell_type": "code",
      "metadata": {
        "id": "71635f13"
      },
      "source": [
        "import pandas as pd\n",
        "import spacy\n",
        "import numpy as np\n",
        "import matplotlib.pyplot as plt\n",
        "from sklearn import metrics\n",
        "%matplotlib inline\n",
        "\n",
        "import seaborn as sns\n",
        "from sklearn.model_selection import GridSearchCV, RandomizedSearchCV\n",
        "from sklearn.pipeline import Pipeline\n",
        "from sklearn.feature_extraction.text import TfidfVectorizer\n",
        "from sklearn.ensemble import RandomForestClassifier\n",
        "from sklearn.model_selection import train_test_split\n",
        "from sklearn.metrics import confusion_matrix, classification_report, accuracy_score"
      ],
      "id": "71635f13",
      "execution_count": 145,
      "outputs": []
    },
    {
      "cell_type": "code",
      "metadata": {
        "id": "ef188bf1"
      },
      "source": [
        "#!pip install spacy"
      ],
      "id": "ef188bf1",
      "execution_count": null,
      "outputs": []
    },
    {
      "cell_type": "code",
      "metadata": {
        "id": "c1a9ece8"
      },
      "source": [
        "# importing libraries for NLP\n",
        "import spacy\n",
        "from spacy.lang.en.stop_words import STOP_WORDS as stopwords\n",
        "import re"
      ],
      "id": "c1a9ece8",
      "execution_count": null,
      "outputs": []
    },
    {
      "cell_type": "code",
      "metadata": {
        "id": "5TP05uT05qC7"
      },
      "source": [
        "def make_confusion_matrix(model,x_actual,y_actual,labels=[1, 0], path=''):\n",
        "    '''\n",
        "    model : classifier to predict values of X\n",
        "    y_actual : ground truth  \n",
        "    \n",
        "    '''\n",
        "    y_predict = model.predict(x_actual)\n",
        "    cm=metrics.confusion_matrix( y_actual, y_predict, labels=[0, 1])\n",
        "    df_cm = pd.DataFrame(cm, index = [i for i in [\"Actual - No\",\"Actual - Yes\"]],\n",
        "                  columns = [i for i in ['Predicted - No','Predicted - Yes']])\n",
        "    group_counts = [\"{0:0.0f}\".format(value) for value in\n",
        "                cm.flatten()]\n",
        "    group_percentages = [\"{0:.2%}\".format(value) for value in\n",
        "                         cm.flatten()/np.sum(cm)]\n",
        "    # labels = [f\"{v1}\\n{v2}\" for v1, v2 in\n",
        "    #           zip(group_counts,group_percentages)]\n",
        "    # labels = np.asarray(labels).reshape(2,2)\n",
        "    plt.figure(figsize = (10,7))\n",
        "    sns.heatmap(df_cm, fmt='')#,annot=labels)\n",
        "    plt.ylabel('True label')\n",
        "    plt.xlabel('Predicted label')\n",
        "    plt.savefig(path, transparent=True)"
      ],
      "id": "5TP05uT05qC7",
      "execution_count": 39,
      "outputs": []
    },
    {
      "cell_type": "markdown",
      "metadata": {
        "id": "wREF9n6EvB6R"
      },
      "source": [
        "# Importing Finished DataFrame for modeling"
      ],
      "id": "wREF9n6EvB6R"
    },
    {
      "cell_type": "code",
      "metadata": {
        "id": "UfGjdSpyveyw",
        "colab": {
          "base_uri": "https://localhost:8080/"
        },
        "outputId": "a6f08253-73ee-4d12-de6a-3c45f026e1ab"
      },
      "source": [
        "from google.colab import drive\n",
        "drive.mount('/content/drive')"
      ],
      "id": "UfGjdSpyveyw",
      "execution_count": 2,
      "outputs": [
        {
          "output_type": "stream",
          "name": "stdout",
          "text": [
            "Drive already mounted at /content/drive; to attempt to forcibly remount, call drive.mount(\"/content/drive\", force_remount=True).\n"
          ]
        }
      ]
    },
    {
      "cell_type": "code",
      "metadata": {
        "id": "kNB0apOivIAa"
      },
      "source": [
        "train_val = pd.read_parquet('/content/drive/MyDrive/EiT/Week_6/Presentation_6/Datasets/train_val_df.parquet', engine='pyarrow')\n",
        "# train_val.drop(columns=['Unnamed: 0'], inplace=True)\n",
        "# test = pd.read_csv('/content/drive/MyDrive/EiT/Week_6/Presentation_6/Datasets/test_df.csv')"
      ],
      "id": "kNB0apOivIAa",
      "execution_count": 3,
      "outputs": []
    },
    {
      "cell_type": "code",
      "metadata": {
        "id": "bVFU9ApRwd2c"
      },
      "source": [
        "train_val.info()"
      ],
      "id": "bVFU9ApRwd2c",
      "execution_count": null,
      "outputs": []
    },
    {
      "cell_type": "code",
      "metadata": {
        "colab": {
          "base_uri": "https://localhost:8080/"
        },
        "id": "CNmwoEvW3jjz",
        "outputId": "22f1d826-c21b-482f-8571-6193481a8de0"
      },
      "source": [
        "train_val.labels.value_counts()"
      ],
      "id": "CNmwoEvW3jjz",
      "execution_count": 4,
      "outputs": [
        {
          "output_type": "execute_result",
          "data": {
            "text/plain": [
              "Entertainment    200\n",
              "Health           200\n",
              "Economy          200\n",
              "Environment      200\n",
              "Technology       200\n",
              "Sports           200\n",
              "Education        200\n",
              "Name: labels, dtype: int64"
            ]
          },
          "metadata": {},
          "execution_count": 4
        }
      ]
    },
    {
      "cell_type": "code",
      "metadata": {
        "id": "bgY7xADW6up1",
        "colab": {
          "base_uri": "https://localhost:8080/"
        },
        "outputId": "018d7a8a-37f6-4029-f500-39cefc9f9bfc"
      },
      "source": [
        "train_val.columns"
      ],
      "id": "bgY7xADW6up1",
      "execution_count": 44,
      "outputs": [
        {
          "output_type": "execute_result",
          "data": {
            "text/plain": [
              "Index(['clean', 'complete', 'comp_stem', 'comp_lem', 'summary', 'sum_stem',\n",
              "       'sum_lem', 'labels'],\n",
              "      dtype='object')"
            ]
          },
          "metadata": {},
          "execution_count": 44
        }
      ]
    },
    {
      "cell_type": "markdown",
      "metadata": {
        "id": "ee43c8be"
      },
      "source": [
        "## Splitting Data and building Random_Forest Model with Pipeline"
      ],
      "id": "ee43c8be"
    },
    {
      "cell_type": "code",
      "metadata": {
        "id": "35c78bee"
      },
      "source": [
        "X_sum = train_val['sum_lem']\n",
        "X_alp = train_val['comp_lem']\n",
        "y_sum = train_val['labels']\n",
        "y_alp = train_val['labels']\n",
        "\n",
        "X_train_sum, X_test_sum, y_train_sum, y_test_sum = train_test_split(X_sum, y_sum, test_size=0.25, random_state=2)\n",
        "X_train_alp, X_test_alp, y_train_alp, y_test_alp = train_test_split(X_alp, y_alp, test_size=0.25, random_state=2)"
      ],
      "id": "35c78bee",
      "execution_count": 185,
      "outputs": []
    },
    {
      "cell_type": "code",
      "metadata": {
        "colab": {
          "base_uri": "https://localhost:8080/",
          "height": 478
        },
        "id": "dZQRfVw02jew",
        "outputId": "26d30d85-4e56-4780-956d-b47918b331d1"
      },
      "source": [
        "tfidvec = TfidfVectorizer(ngram_range=(1,2), max_features=50000)\n",
        "tfid = tfidvec.fit_transform(X_alp)\n",
        "tfid_ = tfid.toarray()\n",
        "tfid_df = pd.DataFrame(tfid_, columns=tfidvec.get_feature_names())\n",
        "print(tfid_df.shape)\n",
        "tfid_df"
      ],
      "id": "dZQRfVw02jew",
      "execution_count": 11,
      "outputs": [
        {
          "output_type": "stream",
          "name": "stdout",
          "text": [
            "(1400, 50000)\n"
          ]
        },
        {
          "output_type": "execute_result",
          "data": {
            "text/html": [
              "<div>\n",
              "<style scoped>\n",
              "    .dataframe tbody tr th:only-of-type {\n",
              "        vertical-align: middle;\n",
              "    }\n",
              "\n",
              "    .dataframe tbody tr th {\n",
              "        vertical-align: top;\n",
              "    }\n",
              "\n",
              "    .dataframe thead th {\n",
              "        text-align: right;\n",
              "    }\n",
              "</style>\n",
              "<table border=\"1\" class=\"dataframe\">\n",
              "  <thead>\n",
              "    <tr style=\"text-align: right;\">\n",
              "      <th></th>\n",
              "      <th>aaron</th>\n",
              "      <th>aaron bolton</th>\n",
              "      <th>aaron die</th>\n",
              "      <th>aaronson</th>\n",
              "      <th>aarp</th>\n",
              "      <th>aarp foundat</th>\n",
              "      <th>abaco</th>\n",
              "      <th>abaco island</th>\n",
              "      <th>abandon</th>\n",
              "      <th>abat</th>\n",
              "      <th>abat opioid</th>\n",
              "      <th>abba</th>\n",
              "      <th>abbi</th>\n",
              "      <th>abbott</th>\n",
              "      <th>abbrevi</th>\n",
              "      <th>abc</th>\n",
              "      <th>abdi</th>\n",
              "      <th>abdul</th>\n",
              "      <th>abdulhadi</th>\n",
              "      <th>abdullah</th>\n",
              "      <th>abeeha</th>\n",
              "      <th>abel</th>\n",
              "      <th>abel prize</th>\n",
              "      <th>abernathi</th>\n",
              "      <th>abha</th>\n",
              "      <th>abha bhattarai</th>\n",
              "      <th>abhorr</th>\n",
              "      <th>abid</th>\n",
              "      <th>abigail</th>\n",
              "      <th>abigail barlow</th>\n",
              "      <th>abigail censki</th>\n",
              "      <th>abil</th>\n",
              "      <th>abil deliv</th>\n",
              "      <th>abil get</th>\n",
              "      <th>abil initi</th>\n",
              "      <th>abil make</th>\n",
              "      <th>abil pay</th>\n",
              "      <th>abil peopl</th>\n",
              "      <th>abil produc</th>\n",
              "      <th>abilen</th>\n",
              "      <th>...</th>\n",
              "      <th>zhan beleniuk</th>\n",
              "      <th>zhang</th>\n",
              "      <th>zhang puyuan</th>\n",
              "      <th>zhang yime</th>\n",
              "      <th>zhao</th>\n",
              "      <th>zhengzhou</th>\n",
              "      <th>zhou</th>\n",
              "      <th>zhou enlai</th>\n",
              "      <th>ziad</th>\n",
              "      <th>ziad buchh</th>\n",
              "      <th>zialcita</th>\n",
              "      <th>zigzag</th>\n",
              "      <th>zillow</th>\n",
              "      <th>zima</th>\n",
              "      <th>zimbabw</th>\n",
              "      <th>zimbalist</th>\n",
              "      <th>zip</th>\n",
              "      <th>zip code</th>\n",
              "      <th>ziprecruit</th>\n",
              "      <th>zitzlsperg</th>\n",
              "      <th>zobrist</th>\n",
              "      <th>zoloth</th>\n",
              "      <th>zombi</th>\n",
              "      <th>zombi invas</th>\n",
              "      <th>zombi movi</th>\n",
              "      <th>zomorodi</th>\n",
              "      <th>zone</th>\n",
              "      <th>zoo</th>\n",
              "      <th>zoom</th>\n",
              "      <th>zoom call</th>\n",
              "      <th>zoom meet</th>\n",
              "      <th>zoë</th>\n",
              "      <th>zubaydah</th>\n",
              "      <th>zucker</th>\n",
              "      <th>zuckerberg</th>\n",
              "      <th>zuckerberg testifi</th>\n",
              "      <th>zuckerberg told</th>\n",
              "      <th>zverev</th>\n",
              "      <th>zwart</th>\n",
              "      <th>zwart piet</th>\n",
              "    </tr>\n",
              "  </thead>\n",
              "  <tbody>\n",
              "    <tr>\n",
              "      <th>0</th>\n",
              "      <td>0.0</td>\n",
              "      <td>0.0</td>\n",
              "      <td>0.0</td>\n",
              "      <td>0.0</td>\n",
              "      <td>0.0</td>\n",
              "      <td>0.0</td>\n",
              "      <td>0.0</td>\n",
              "      <td>0.0</td>\n",
              "      <td>0.0</td>\n",
              "      <td>0.0</td>\n",
              "      <td>0.0</td>\n",
              "      <td>0.0</td>\n",
              "      <td>0.0</td>\n",
              "      <td>0.0</td>\n",
              "      <td>0.0</td>\n",
              "      <td>0.0</td>\n",
              "      <td>0.0</td>\n",
              "      <td>0.0</td>\n",
              "      <td>0.0</td>\n",
              "      <td>0.0</td>\n",
              "      <td>0.0</td>\n",
              "      <td>0.0</td>\n",
              "      <td>0.0</td>\n",
              "      <td>0.0</td>\n",
              "      <td>0.0</td>\n",
              "      <td>0.0</td>\n",
              "      <td>0.0</td>\n",
              "      <td>0.0</td>\n",
              "      <td>0.0</td>\n",
              "      <td>0.0</td>\n",
              "      <td>0.0</td>\n",
              "      <td>0.000000</td>\n",
              "      <td>0.0</td>\n",
              "      <td>0.0</td>\n",
              "      <td>0.0</td>\n",
              "      <td>0.0</td>\n",
              "      <td>0.0</td>\n",
              "      <td>0.0</td>\n",
              "      <td>0.0</td>\n",
              "      <td>0.0</td>\n",
              "      <td>...</td>\n",
              "      <td>0.0</td>\n",
              "      <td>0.0</td>\n",
              "      <td>0.0</td>\n",
              "      <td>0.0</td>\n",
              "      <td>0.0</td>\n",
              "      <td>0.0</td>\n",
              "      <td>0.0</td>\n",
              "      <td>0.0</td>\n",
              "      <td>0.0</td>\n",
              "      <td>0.0</td>\n",
              "      <td>0.0</td>\n",
              "      <td>0.0</td>\n",
              "      <td>0.0</td>\n",
              "      <td>0.0</td>\n",
              "      <td>0.0</td>\n",
              "      <td>0.0</td>\n",
              "      <td>0.0</td>\n",
              "      <td>0.0</td>\n",
              "      <td>0.0</td>\n",
              "      <td>0.0</td>\n",
              "      <td>0.0</td>\n",
              "      <td>0.0</td>\n",
              "      <td>0.0</td>\n",
              "      <td>0.0</td>\n",
              "      <td>0.0</td>\n",
              "      <td>0.0</td>\n",
              "      <td>0.0</td>\n",
              "      <td>0.0</td>\n",
              "      <td>0.0</td>\n",
              "      <td>0.0</td>\n",
              "      <td>0.0</td>\n",
              "      <td>0.0</td>\n",
              "      <td>0.0</td>\n",
              "      <td>0.0</td>\n",
              "      <td>0.000000</td>\n",
              "      <td>0.0</td>\n",
              "      <td>0.0</td>\n",
              "      <td>0.0</td>\n",
              "      <td>0.0</td>\n",
              "      <td>0.0</td>\n",
              "    </tr>\n",
              "    <tr>\n",
              "      <th>1</th>\n",
              "      <td>0.0</td>\n",
              "      <td>0.0</td>\n",
              "      <td>0.0</td>\n",
              "      <td>0.0</td>\n",
              "      <td>0.0</td>\n",
              "      <td>0.0</td>\n",
              "      <td>0.0</td>\n",
              "      <td>0.0</td>\n",
              "      <td>0.0</td>\n",
              "      <td>0.0</td>\n",
              "      <td>0.0</td>\n",
              "      <td>0.0</td>\n",
              "      <td>0.0</td>\n",
              "      <td>0.0</td>\n",
              "      <td>0.0</td>\n",
              "      <td>0.0</td>\n",
              "      <td>0.0</td>\n",
              "      <td>0.0</td>\n",
              "      <td>0.0</td>\n",
              "      <td>0.0</td>\n",
              "      <td>0.0</td>\n",
              "      <td>0.0</td>\n",
              "      <td>0.0</td>\n",
              "      <td>0.0</td>\n",
              "      <td>0.0</td>\n",
              "      <td>0.0</td>\n",
              "      <td>0.0</td>\n",
              "      <td>0.0</td>\n",
              "      <td>0.0</td>\n",
              "      <td>0.0</td>\n",
              "      <td>0.0</td>\n",
              "      <td>0.000000</td>\n",
              "      <td>0.0</td>\n",
              "      <td>0.0</td>\n",
              "      <td>0.0</td>\n",
              "      <td>0.0</td>\n",
              "      <td>0.0</td>\n",
              "      <td>0.0</td>\n",
              "      <td>0.0</td>\n",
              "      <td>0.0</td>\n",
              "      <td>...</td>\n",
              "      <td>0.0</td>\n",
              "      <td>0.0</td>\n",
              "      <td>0.0</td>\n",
              "      <td>0.0</td>\n",
              "      <td>0.0</td>\n",
              "      <td>0.0</td>\n",
              "      <td>0.0</td>\n",
              "      <td>0.0</td>\n",
              "      <td>0.0</td>\n",
              "      <td>0.0</td>\n",
              "      <td>0.0</td>\n",
              "      <td>0.0</td>\n",
              "      <td>0.0</td>\n",
              "      <td>0.0</td>\n",
              "      <td>0.0</td>\n",
              "      <td>0.0</td>\n",
              "      <td>0.0</td>\n",
              "      <td>0.0</td>\n",
              "      <td>0.0</td>\n",
              "      <td>0.0</td>\n",
              "      <td>0.0</td>\n",
              "      <td>0.0</td>\n",
              "      <td>0.0</td>\n",
              "      <td>0.0</td>\n",
              "      <td>0.0</td>\n",
              "      <td>0.0</td>\n",
              "      <td>0.0</td>\n",
              "      <td>0.0</td>\n",
              "      <td>0.0</td>\n",
              "      <td>0.0</td>\n",
              "      <td>0.0</td>\n",
              "      <td>0.0</td>\n",
              "      <td>0.0</td>\n",
              "      <td>0.0</td>\n",
              "      <td>0.000000</td>\n",
              "      <td>0.0</td>\n",
              "      <td>0.0</td>\n",
              "      <td>0.0</td>\n",
              "      <td>0.0</td>\n",
              "      <td>0.0</td>\n",
              "    </tr>\n",
              "    <tr>\n",
              "      <th>2</th>\n",
              "      <td>0.0</td>\n",
              "      <td>0.0</td>\n",
              "      <td>0.0</td>\n",
              "      <td>0.0</td>\n",
              "      <td>0.0</td>\n",
              "      <td>0.0</td>\n",
              "      <td>0.0</td>\n",
              "      <td>0.0</td>\n",
              "      <td>0.0</td>\n",
              "      <td>0.0</td>\n",
              "      <td>0.0</td>\n",
              "      <td>0.0</td>\n",
              "      <td>0.0</td>\n",
              "      <td>0.0</td>\n",
              "      <td>0.0</td>\n",
              "      <td>0.0</td>\n",
              "      <td>0.0</td>\n",
              "      <td>0.0</td>\n",
              "      <td>0.0</td>\n",
              "      <td>0.0</td>\n",
              "      <td>0.0</td>\n",
              "      <td>0.0</td>\n",
              "      <td>0.0</td>\n",
              "      <td>0.0</td>\n",
              "      <td>0.0</td>\n",
              "      <td>0.0</td>\n",
              "      <td>0.0</td>\n",
              "      <td>0.0</td>\n",
              "      <td>0.0</td>\n",
              "      <td>0.0</td>\n",
              "      <td>0.0</td>\n",
              "      <td>0.000000</td>\n",
              "      <td>0.0</td>\n",
              "      <td>0.0</td>\n",
              "      <td>0.0</td>\n",
              "      <td>0.0</td>\n",
              "      <td>0.0</td>\n",
              "      <td>0.0</td>\n",
              "      <td>0.0</td>\n",
              "      <td>0.0</td>\n",
              "      <td>...</td>\n",
              "      <td>0.0</td>\n",
              "      <td>0.0</td>\n",
              "      <td>0.0</td>\n",
              "      <td>0.0</td>\n",
              "      <td>0.0</td>\n",
              "      <td>0.0</td>\n",
              "      <td>0.0</td>\n",
              "      <td>0.0</td>\n",
              "      <td>0.0</td>\n",
              "      <td>0.0</td>\n",
              "      <td>0.0</td>\n",
              "      <td>0.0</td>\n",
              "      <td>0.0</td>\n",
              "      <td>0.0</td>\n",
              "      <td>0.0</td>\n",
              "      <td>0.0</td>\n",
              "      <td>0.0</td>\n",
              "      <td>0.0</td>\n",
              "      <td>0.0</td>\n",
              "      <td>0.0</td>\n",
              "      <td>0.0</td>\n",
              "      <td>0.0</td>\n",
              "      <td>0.0</td>\n",
              "      <td>0.0</td>\n",
              "      <td>0.0</td>\n",
              "      <td>0.0</td>\n",
              "      <td>0.0</td>\n",
              "      <td>0.0</td>\n",
              "      <td>0.0</td>\n",
              "      <td>0.0</td>\n",
              "      <td>0.0</td>\n",
              "      <td>0.0</td>\n",
              "      <td>0.0</td>\n",
              "      <td>0.0</td>\n",
              "      <td>0.098959</td>\n",
              "      <td>0.0</td>\n",
              "      <td>0.0</td>\n",
              "      <td>0.0</td>\n",
              "      <td>0.0</td>\n",
              "      <td>0.0</td>\n",
              "    </tr>\n",
              "    <tr>\n",
              "      <th>3</th>\n",
              "      <td>0.0</td>\n",
              "      <td>0.0</td>\n",
              "      <td>0.0</td>\n",
              "      <td>0.0</td>\n",
              "      <td>0.0</td>\n",
              "      <td>0.0</td>\n",
              "      <td>0.0</td>\n",
              "      <td>0.0</td>\n",
              "      <td>0.0</td>\n",
              "      <td>0.0</td>\n",
              "      <td>0.0</td>\n",
              "      <td>0.0</td>\n",
              "      <td>0.0</td>\n",
              "      <td>0.0</td>\n",
              "      <td>0.0</td>\n",
              "      <td>0.0</td>\n",
              "      <td>0.0</td>\n",
              "      <td>0.0</td>\n",
              "      <td>0.0</td>\n",
              "      <td>0.0</td>\n",
              "      <td>0.0</td>\n",
              "      <td>0.0</td>\n",
              "      <td>0.0</td>\n",
              "      <td>0.0</td>\n",
              "      <td>0.0</td>\n",
              "      <td>0.0</td>\n",
              "      <td>0.0</td>\n",
              "      <td>0.0</td>\n",
              "      <td>0.0</td>\n",
              "      <td>0.0</td>\n",
              "      <td>0.0</td>\n",
              "      <td>0.000000</td>\n",
              "      <td>0.0</td>\n",
              "      <td>0.0</td>\n",
              "      <td>0.0</td>\n",
              "      <td>0.0</td>\n",
              "      <td>0.0</td>\n",
              "      <td>0.0</td>\n",
              "      <td>0.0</td>\n",
              "      <td>0.0</td>\n",
              "      <td>...</td>\n",
              "      <td>0.0</td>\n",
              "      <td>0.0</td>\n",
              "      <td>0.0</td>\n",
              "      <td>0.0</td>\n",
              "      <td>0.0</td>\n",
              "      <td>0.0</td>\n",
              "      <td>0.0</td>\n",
              "      <td>0.0</td>\n",
              "      <td>0.0</td>\n",
              "      <td>0.0</td>\n",
              "      <td>0.0</td>\n",
              "      <td>0.0</td>\n",
              "      <td>0.0</td>\n",
              "      <td>0.0</td>\n",
              "      <td>0.0</td>\n",
              "      <td>0.0</td>\n",
              "      <td>0.0</td>\n",
              "      <td>0.0</td>\n",
              "      <td>0.0</td>\n",
              "      <td>0.0</td>\n",
              "      <td>0.0</td>\n",
              "      <td>0.0</td>\n",
              "      <td>0.0</td>\n",
              "      <td>0.0</td>\n",
              "      <td>0.0</td>\n",
              "      <td>0.0</td>\n",
              "      <td>0.0</td>\n",
              "      <td>0.0</td>\n",
              "      <td>0.0</td>\n",
              "      <td>0.0</td>\n",
              "      <td>0.0</td>\n",
              "      <td>0.0</td>\n",
              "      <td>0.0</td>\n",
              "      <td>0.0</td>\n",
              "      <td>0.000000</td>\n",
              "      <td>0.0</td>\n",
              "      <td>0.0</td>\n",
              "      <td>0.0</td>\n",
              "      <td>0.0</td>\n",
              "      <td>0.0</td>\n",
              "    </tr>\n",
              "    <tr>\n",
              "      <th>4</th>\n",
              "      <td>0.0</td>\n",
              "      <td>0.0</td>\n",
              "      <td>0.0</td>\n",
              "      <td>0.0</td>\n",
              "      <td>0.0</td>\n",
              "      <td>0.0</td>\n",
              "      <td>0.0</td>\n",
              "      <td>0.0</td>\n",
              "      <td>0.0</td>\n",
              "      <td>0.0</td>\n",
              "      <td>0.0</td>\n",
              "      <td>0.0</td>\n",
              "      <td>0.0</td>\n",
              "      <td>0.0</td>\n",
              "      <td>0.0</td>\n",
              "      <td>0.0</td>\n",
              "      <td>0.0</td>\n",
              "      <td>0.0</td>\n",
              "      <td>0.0</td>\n",
              "      <td>0.0</td>\n",
              "      <td>0.0</td>\n",
              "      <td>0.0</td>\n",
              "      <td>0.0</td>\n",
              "      <td>0.0</td>\n",
              "      <td>0.0</td>\n",
              "      <td>0.0</td>\n",
              "      <td>0.0</td>\n",
              "      <td>0.0</td>\n",
              "      <td>0.0</td>\n",
              "      <td>0.0</td>\n",
              "      <td>0.0</td>\n",
              "      <td>0.000000</td>\n",
              "      <td>0.0</td>\n",
              "      <td>0.0</td>\n",
              "      <td>0.0</td>\n",
              "      <td>0.0</td>\n",
              "      <td>0.0</td>\n",
              "      <td>0.0</td>\n",
              "      <td>0.0</td>\n",
              "      <td>0.0</td>\n",
              "      <td>...</td>\n",
              "      <td>0.0</td>\n",
              "      <td>0.0</td>\n",
              "      <td>0.0</td>\n",
              "      <td>0.0</td>\n",
              "      <td>0.0</td>\n",
              "      <td>0.0</td>\n",
              "      <td>0.0</td>\n",
              "      <td>0.0</td>\n",
              "      <td>0.0</td>\n",
              "      <td>0.0</td>\n",
              "      <td>0.0</td>\n",
              "      <td>0.0</td>\n",
              "      <td>0.0</td>\n",
              "      <td>0.0</td>\n",
              "      <td>0.0</td>\n",
              "      <td>0.0</td>\n",
              "      <td>0.0</td>\n",
              "      <td>0.0</td>\n",
              "      <td>0.0</td>\n",
              "      <td>0.0</td>\n",
              "      <td>0.0</td>\n",
              "      <td>0.0</td>\n",
              "      <td>0.0</td>\n",
              "      <td>0.0</td>\n",
              "      <td>0.0</td>\n",
              "      <td>0.0</td>\n",
              "      <td>0.0</td>\n",
              "      <td>0.0</td>\n",
              "      <td>0.0</td>\n",
              "      <td>0.0</td>\n",
              "      <td>0.0</td>\n",
              "      <td>0.0</td>\n",
              "      <td>0.0</td>\n",
              "      <td>0.0</td>\n",
              "      <td>0.000000</td>\n",
              "      <td>0.0</td>\n",
              "      <td>0.0</td>\n",
              "      <td>0.0</td>\n",
              "      <td>0.0</td>\n",
              "      <td>0.0</td>\n",
              "    </tr>\n",
              "    <tr>\n",
              "      <th>...</th>\n",
              "      <td>...</td>\n",
              "      <td>...</td>\n",
              "      <td>...</td>\n",
              "      <td>...</td>\n",
              "      <td>...</td>\n",
              "      <td>...</td>\n",
              "      <td>...</td>\n",
              "      <td>...</td>\n",
              "      <td>...</td>\n",
              "      <td>...</td>\n",
              "      <td>...</td>\n",
              "      <td>...</td>\n",
              "      <td>...</td>\n",
              "      <td>...</td>\n",
              "      <td>...</td>\n",
              "      <td>...</td>\n",
              "      <td>...</td>\n",
              "      <td>...</td>\n",
              "      <td>...</td>\n",
              "      <td>...</td>\n",
              "      <td>...</td>\n",
              "      <td>...</td>\n",
              "      <td>...</td>\n",
              "      <td>...</td>\n",
              "      <td>...</td>\n",
              "      <td>...</td>\n",
              "      <td>...</td>\n",
              "      <td>...</td>\n",
              "      <td>...</td>\n",
              "      <td>...</td>\n",
              "      <td>...</td>\n",
              "      <td>...</td>\n",
              "      <td>...</td>\n",
              "      <td>...</td>\n",
              "      <td>...</td>\n",
              "      <td>...</td>\n",
              "      <td>...</td>\n",
              "      <td>...</td>\n",
              "      <td>...</td>\n",
              "      <td>...</td>\n",
              "      <td>...</td>\n",
              "      <td>...</td>\n",
              "      <td>...</td>\n",
              "      <td>...</td>\n",
              "      <td>...</td>\n",
              "      <td>...</td>\n",
              "      <td>...</td>\n",
              "      <td>...</td>\n",
              "      <td>...</td>\n",
              "      <td>...</td>\n",
              "      <td>...</td>\n",
              "      <td>...</td>\n",
              "      <td>...</td>\n",
              "      <td>...</td>\n",
              "      <td>...</td>\n",
              "      <td>...</td>\n",
              "      <td>...</td>\n",
              "      <td>...</td>\n",
              "      <td>...</td>\n",
              "      <td>...</td>\n",
              "      <td>...</td>\n",
              "      <td>...</td>\n",
              "      <td>...</td>\n",
              "      <td>...</td>\n",
              "      <td>...</td>\n",
              "      <td>...</td>\n",
              "      <td>...</td>\n",
              "      <td>...</td>\n",
              "      <td>...</td>\n",
              "      <td>...</td>\n",
              "      <td>...</td>\n",
              "      <td>...</td>\n",
              "      <td>...</td>\n",
              "      <td>...</td>\n",
              "      <td>...</td>\n",
              "      <td>...</td>\n",
              "      <td>...</td>\n",
              "      <td>...</td>\n",
              "      <td>...</td>\n",
              "      <td>...</td>\n",
              "      <td>...</td>\n",
              "    </tr>\n",
              "    <tr>\n",
              "      <th>1395</th>\n",
              "      <td>0.0</td>\n",
              "      <td>0.0</td>\n",
              "      <td>0.0</td>\n",
              "      <td>0.0</td>\n",
              "      <td>0.0</td>\n",
              "      <td>0.0</td>\n",
              "      <td>0.0</td>\n",
              "      <td>0.0</td>\n",
              "      <td>0.0</td>\n",
              "      <td>0.0</td>\n",
              "      <td>0.0</td>\n",
              "      <td>0.0</td>\n",
              "      <td>0.0</td>\n",
              "      <td>0.0</td>\n",
              "      <td>0.0</td>\n",
              "      <td>0.0</td>\n",
              "      <td>0.0</td>\n",
              "      <td>0.0</td>\n",
              "      <td>0.0</td>\n",
              "      <td>0.0</td>\n",
              "      <td>0.0</td>\n",
              "      <td>0.0</td>\n",
              "      <td>0.0</td>\n",
              "      <td>0.0</td>\n",
              "      <td>0.0</td>\n",
              "      <td>0.0</td>\n",
              "      <td>0.0</td>\n",
              "      <td>0.0</td>\n",
              "      <td>0.0</td>\n",
              "      <td>0.0</td>\n",
              "      <td>0.0</td>\n",
              "      <td>0.000000</td>\n",
              "      <td>0.0</td>\n",
              "      <td>0.0</td>\n",
              "      <td>0.0</td>\n",
              "      <td>0.0</td>\n",
              "      <td>0.0</td>\n",
              "      <td>0.0</td>\n",
              "      <td>0.0</td>\n",
              "      <td>0.0</td>\n",
              "      <td>...</td>\n",
              "      <td>0.0</td>\n",
              "      <td>0.0</td>\n",
              "      <td>0.0</td>\n",
              "      <td>0.0</td>\n",
              "      <td>0.0</td>\n",
              "      <td>0.0</td>\n",
              "      <td>0.0</td>\n",
              "      <td>0.0</td>\n",
              "      <td>0.0</td>\n",
              "      <td>0.0</td>\n",
              "      <td>0.0</td>\n",
              "      <td>0.0</td>\n",
              "      <td>0.0</td>\n",
              "      <td>0.0</td>\n",
              "      <td>0.0</td>\n",
              "      <td>0.0</td>\n",
              "      <td>0.0</td>\n",
              "      <td>0.0</td>\n",
              "      <td>0.0</td>\n",
              "      <td>0.0</td>\n",
              "      <td>0.0</td>\n",
              "      <td>0.0</td>\n",
              "      <td>0.0</td>\n",
              "      <td>0.0</td>\n",
              "      <td>0.0</td>\n",
              "      <td>0.0</td>\n",
              "      <td>0.0</td>\n",
              "      <td>0.0</td>\n",
              "      <td>0.0</td>\n",
              "      <td>0.0</td>\n",
              "      <td>0.0</td>\n",
              "      <td>0.0</td>\n",
              "      <td>0.0</td>\n",
              "      <td>0.0</td>\n",
              "      <td>0.000000</td>\n",
              "      <td>0.0</td>\n",
              "      <td>0.0</td>\n",
              "      <td>0.0</td>\n",
              "      <td>0.0</td>\n",
              "      <td>0.0</td>\n",
              "    </tr>\n",
              "    <tr>\n",
              "      <th>1396</th>\n",
              "      <td>0.0</td>\n",
              "      <td>0.0</td>\n",
              "      <td>0.0</td>\n",
              "      <td>0.0</td>\n",
              "      <td>0.0</td>\n",
              "      <td>0.0</td>\n",
              "      <td>0.0</td>\n",
              "      <td>0.0</td>\n",
              "      <td>0.0</td>\n",
              "      <td>0.0</td>\n",
              "      <td>0.0</td>\n",
              "      <td>0.0</td>\n",
              "      <td>0.0</td>\n",
              "      <td>0.0</td>\n",
              "      <td>0.0</td>\n",
              "      <td>0.0</td>\n",
              "      <td>0.0</td>\n",
              "      <td>0.0</td>\n",
              "      <td>0.0</td>\n",
              "      <td>0.0</td>\n",
              "      <td>0.0</td>\n",
              "      <td>0.0</td>\n",
              "      <td>0.0</td>\n",
              "      <td>0.0</td>\n",
              "      <td>0.0</td>\n",
              "      <td>0.0</td>\n",
              "      <td>0.0</td>\n",
              "      <td>0.0</td>\n",
              "      <td>0.0</td>\n",
              "      <td>0.0</td>\n",
              "      <td>0.0</td>\n",
              "      <td>0.015368</td>\n",
              "      <td>0.0</td>\n",
              "      <td>0.0</td>\n",
              "      <td>0.0</td>\n",
              "      <td>0.0</td>\n",
              "      <td>0.0</td>\n",
              "      <td>0.0</td>\n",
              "      <td>0.0</td>\n",
              "      <td>0.0</td>\n",
              "      <td>...</td>\n",
              "      <td>0.0</td>\n",
              "      <td>0.0</td>\n",
              "      <td>0.0</td>\n",
              "      <td>0.0</td>\n",
              "      <td>0.0</td>\n",
              "      <td>0.0</td>\n",
              "      <td>0.0</td>\n",
              "      <td>0.0</td>\n",
              "      <td>0.0</td>\n",
              "      <td>0.0</td>\n",
              "      <td>0.0</td>\n",
              "      <td>0.0</td>\n",
              "      <td>0.0</td>\n",
              "      <td>0.0</td>\n",
              "      <td>0.0</td>\n",
              "      <td>0.0</td>\n",
              "      <td>0.0</td>\n",
              "      <td>0.0</td>\n",
              "      <td>0.0</td>\n",
              "      <td>0.0</td>\n",
              "      <td>0.0</td>\n",
              "      <td>0.0</td>\n",
              "      <td>0.0</td>\n",
              "      <td>0.0</td>\n",
              "      <td>0.0</td>\n",
              "      <td>0.0</td>\n",
              "      <td>0.0</td>\n",
              "      <td>0.0</td>\n",
              "      <td>0.0</td>\n",
              "      <td>0.0</td>\n",
              "      <td>0.0</td>\n",
              "      <td>0.0</td>\n",
              "      <td>0.0</td>\n",
              "      <td>0.0</td>\n",
              "      <td>0.000000</td>\n",
              "      <td>0.0</td>\n",
              "      <td>0.0</td>\n",
              "      <td>0.0</td>\n",
              "      <td>0.0</td>\n",
              "      <td>0.0</td>\n",
              "    </tr>\n",
              "    <tr>\n",
              "      <th>1397</th>\n",
              "      <td>0.0</td>\n",
              "      <td>0.0</td>\n",
              "      <td>0.0</td>\n",
              "      <td>0.0</td>\n",
              "      <td>0.0</td>\n",
              "      <td>0.0</td>\n",
              "      <td>0.0</td>\n",
              "      <td>0.0</td>\n",
              "      <td>0.0</td>\n",
              "      <td>0.0</td>\n",
              "      <td>0.0</td>\n",
              "      <td>0.0</td>\n",
              "      <td>0.0</td>\n",
              "      <td>0.0</td>\n",
              "      <td>0.0</td>\n",
              "      <td>0.0</td>\n",
              "      <td>0.0</td>\n",
              "      <td>0.0</td>\n",
              "      <td>0.0</td>\n",
              "      <td>0.0</td>\n",
              "      <td>0.0</td>\n",
              "      <td>0.0</td>\n",
              "      <td>0.0</td>\n",
              "      <td>0.0</td>\n",
              "      <td>0.0</td>\n",
              "      <td>0.0</td>\n",
              "      <td>0.0</td>\n",
              "      <td>0.0</td>\n",
              "      <td>0.0</td>\n",
              "      <td>0.0</td>\n",
              "      <td>0.0</td>\n",
              "      <td>0.000000</td>\n",
              "      <td>0.0</td>\n",
              "      <td>0.0</td>\n",
              "      <td>0.0</td>\n",
              "      <td>0.0</td>\n",
              "      <td>0.0</td>\n",
              "      <td>0.0</td>\n",
              "      <td>0.0</td>\n",
              "      <td>0.0</td>\n",
              "      <td>...</td>\n",
              "      <td>0.0</td>\n",
              "      <td>0.0</td>\n",
              "      <td>0.0</td>\n",
              "      <td>0.0</td>\n",
              "      <td>0.0</td>\n",
              "      <td>0.0</td>\n",
              "      <td>0.0</td>\n",
              "      <td>0.0</td>\n",
              "      <td>0.0</td>\n",
              "      <td>0.0</td>\n",
              "      <td>0.0</td>\n",
              "      <td>0.0</td>\n",
              "      <td>0.0</td>\n",
              "      <td>0.0</td>\n",
              "      <td>0.0</td>\n",
              "      <td>0.0</td>\n",
              "      <td>0.0</td>\n",
              "      <td>0.0</td>\n",
              "      <td>0.0</td>\n",
              "      <td>0.0</td>\n",
              "      <td>0.0</td>\n",
              "      <td>0.0</td>\n",
              "      <td>0.0</td>\n",
              "      <td>0.0</td>\n",
              "      <td>0.0</td>\n",
              "      <td>0.0</td>\n",
              "      <td>0.0</td>\n",
              "      <td>0.0</td>\n",
              "      <td>0.0</td>\n",
              "      <td>0.0</td>\n",
              "      <td>0.0</td>\n",
              "      <td>0.0</td>\n",
              "      <td>0.0</td>\n",
              "      <td>0.0</td>\n",
              "      <td>0.000000</td>\n",
              "      <td>0.0</td>\n",
              "      <td>0.0</td>\n",
              "      <td>0.0</td>\n",
              "      <td>0.0</td>\n",
              "      <td>0.0</td>\n",
              "    </tr>\n",
              "    <tr>\n",
              "      <th>1398</th>\n",
              "      <td>0.0</td>\n",
              "      <td>0.0</td>\n",
              "      <td>0.0</td>\n",
              "      <td>0.0</td>\n",
              "      <td>0.0</td>\n",
              "      <td>0.0</td>\n",
              "      <td>0.0</td>\n",
              "      <td>0.0</td>\n",
              "      <td>0.0</td>\n",
              "      <td>0.0</td>\n",
              "      <td>0.0</td>\n",
              "      <td>0.0</td>\n",
              "      <td>0.0</td>\n",
              "      <td>0.0</td>\n",
              "      <td>0.0</td>\n",
              "      <td>0.0</td>\n",
              "      <td>0.0</td>\n",
              "      <td>0.0</td>\n",
              "      <td>0.0</td>\n",
              "      <td>0.0</td>\n",
              "      <td>0.0</td>\n",
              "      <td>0.0</td>\n",
              "      <td>0.0</td>\n",
              "      <td>0.0</td>\n",
              "      <td>0.0</td>\n",
              "      <td>0.0</td>\n",
              "      <td>0.0</td>\n",
              "      <td>0.0</td>\n",
              "      <td>0.0</td>\n",
              "      <td>0.0</td>\n",
              "      <td>0.0</td>\n",
              "      <td>0.000000</td>\n",
              "      <td>0.0</td>\n",
              "      <td>0.0</td>\n",
              "      <td>0.0</td>\n",
              "      <td>0.0</td>\n",
              "      <td>0.0</td>\n",
              "      <td>0.0</td>\n",
              "      <td>0.0</td>\n",
              "      <td>0.0</td>\n",
              "      <td>...</td>\n",
              "      <td>0.0</td>\n",
              "      <td>0.0</td>\n",
              "      <td>0.0</td>\n",
              "      <td>0.0</td>\n",
              "      <td>0.0</td>\n",
              "      <td>0.0</td>\n",
              "      <td>0.0</td>\n",
              "      <td>0.0</td>\n",
              "      <td>0.0</td>\n",
              "      <td>0.0</td>\n",
              "      <td>0.0</td>\n",
              "      <td>0.0</td>\n",
              "      <td>0.0</td>\n",
              "      <td>0.0</td>\n",
              "      <td>0.0</td>\n",
              "      <td>0.0</td>\n",
              "      <td>0.0</td>\n",
              "      <td>0.0</td>\n",
              "      <td>0.0</td>\n",
              "      <td>0.0</td>\n",
              "      <td>0.0</td>\n",
              "      <td>0.0</td>\n",
              "      <td>0.0</td>\n",
              "      <td>0.0</td>\n",
              "      <td>0.0</td>\n",
              "      <td>0.0</td>\n",
              "      <td>0.0</td>\n",
              "      <td>0.0</td>\n",
              "      <td>0.0</td>\n",
              "      <td>0.0</td>\n",
              "      <td>0.0</td>\n",
              "      <td>0.0</td>\n",
              "      <td>0.0</td>\n",
              "      <td>0.0</td>\n",
              "      <td>0.000000</td>\n",
              "      <td>0.0</td>\n",
              "      <td>0.0</td>\n",
              "      <td>0.0</td>\n",
              "      <td>0.0</td>\n",
              "      <td>0.0</td>\n",
              "    </tr>\n",
              "    <tr>\n",
              "      <th>1399</th>\n",
              "      <td>0.0</td>\n",
              "      <td>0.0</td>\n",
              "      <td>0.0</td>\n",
              "      <td>0.0</td>\n",
              "      <td>0.0</td>\n",
              "      <td>0.0</td>\n",
              "      <td>0.0</td>\n",
              "      <td>0.0</td>\n",
              "      <td>0.0</td>\n",
              "      <td>0.0</td>\n",
              "      <td>0.0</td>\n",
              "      <td>0.0</td>\n",
              "      <td>0.0</td>\n",
              "      <td>0.0</td>\n",
              "      <td>0.0</td>\n",
              "      <td>0.0</td>\n",
              "      <td>0.0</td>\n",
              "      <td>0.0</td>\n",
              "      <td>0.0</td>\n",
              "      <td>0.0</td>\n",
              "      <td>0.0</td>\n",
              "      <td>0.0</td>\n",
              "      <td>0.0</td>\n",
              "      <td>0.0</td>\n",
              "      <td>0.0</td>\n",
              "      <td>0.0</td>\n",
              "      <td>0.0</td>\n",
              "      <td>0.0</td>\n",
              "      <td>0.0</td>\n",
              "      <td>0.0</td>\n",
              "      <td>0.0</td>\n",
              "      <td>0.000000</td>\n",
              "      <td>0.0</td>\n",
              "      <td>0.0</td>\n",
              "      <td>0.0</td>\n",
              "      <td>0.0</td>\n",
              "      <td>0.0</td>\n",
              "      <td>0.0</td>\n",
              "      <td>0.0</td>\n",
              "      <td>0.0</td>\n",
              "      <td>...</td>\n",
              "      <td>0.0</td>\n",
              "      <td>0.0</td>\n",
              "      <td>0.0</td>\n",
              "      <td>0.0</td>\n",
              "      <td>0.0</td>\n",
              "      <td>0.0</td>\n",
              "      <td>0.0</td>\n",
              "      <td>0.0</td>\n",
              "      <td>0.0</td>\n",
              "      <td>0.0</td>\n",
              "      <td>0.0</td>\n",
              "      <td>0.0</td>\n",
              "      <td>0.0</td>\n",
              "      <td>0.0</td>\n",
              "      <td>0.0</td>\n",
              "      <td>0.0</td>\n",
              "      <td>0.0</td>\n",
              "      <td>0.0</td>\n",
              "      <td>0.0</td>\n",
              "      <td>0.0</td>\n",
              "      <td>0.0</td>\n",
              "      <td>0.0</td>\n",
              "      <td>0.0</td>\n",
              "      <td>0.0</td>\n",
              "      <td>0.0</td>\n",
              "      <td>0.0</td>\n",
              "      <td>0.0</td>\n",
              "      <td>0.0</td>\n",
              "      <td>0.0</td>\n",
              "      <td>0.0</td>\n",
              "      <td>0.0</td>\n",
              "      <td>0.0</td>\n",
              "      <td>0.0</td>\n",
              "      <td>0.0</td>\n",
              "      <td>0.000000</td>\n",
              "      <td>0.0</td>\n",
              "      <td>0.0</td>\n",
              "      <td>0.0</td>\n",
              "      <td>0.0</td>\n",
              "      <td>0.0</td>\n",
              "    </tr>\n",
              "  </tbody>\n",
              "</table>\n",
              "<p>1400 rows × 50000 columns</p>\n",
              "</div>"
            ],
            "text/plain": [
              "      aaron  aaron bolton  aaron die  ...  zverev  zwart  zwart piet\n",
              "0       0.0           0.0        0.0  ...     0.0    0.0         0.0\n",
              "1       0.0           0.0        0.0  ...     0.0    0.0         0.0\n",
              "2       0.0           0.0        0.0  ...     0.0    0.0         0.0\n",
              "3       0.0           0.0        0.0  ...     0.0    0.0         0.0\n",
              "4       0.0           0.0        0.0  ...     0.0    0.0         0.0\n",
              "...     ...           ...        ...  ...     ...    ...         ...\n",
              "1395    0.0           0.0        0.0  ...     0.0    0.0         0.0\n",
              "1396    0.0           0.0        0.0  ...     0.0    0.0         0.0\n",
              "1397    0.0           0.0        0.0  ...     0.0    0.0         0.0\n",
              "1398    0.0           0.0        0.0  ...     0.0    0.0         0.0\n",
              "1399    0.0           0.0        0.0  ...     0.0    0.0         0.0\n",
              "\n",
              "[1400 rows x 50000 columns]"
            ]
          },
          "metadata": {},
          "execution_count": 11
        }
      ]
    },
    {
      "cell_type": "markdown",
      "metadata": {
        "id": "O6mNCbLT-y3h"
      },
      "source": [
        "## complete"
      ],
      "id": "O6mNCbLT-y3h"
    },
    {
      "cell_type": "code",
      "metadata": {
        "id": "9387aeb4",
        "colab": {
          "base_uri": "https://localhost:8080/"
        },
        "outputId": "41bb9c7c-298e-405f-d0f5-049567fb0d64"
      },
      "source": [
        "text_clf_alp = Pipeline([('tfidf', TfidfVectorizer()),\n",
        "                     ('clf', RandomForestClassifier(n_jobs=-1, random_state=2))], verbose=True)\n",
        "\n",
        "text_clf_alp.fit(X_train_alp, y_train_alp)  "
      ],
      "id": "9387aeb4",
      "execution_count": 46,
      "outputs": [
        {
          "output_type": "stream",
          "name": "stdout",
          "text": [
            "[Pipeline] ............. (step 1 of 2) Processing tfidf, total=   0.5s\n",
            "[Pipeline] ............... (step 2 of 2) Processing clf, total=   1.3s\n"
          ]
        },
        {
          "output_type": "execute_result",
          "data": {
            "text/plain": [
              "Pipeline(memory=None,\n",
              "         steps=[('tfidf',\n",
              "                 TfidfVectorizer(analyzer='word', binary=False,\n",
              "                                 decode_error='strict',\n",
              "                                 dtype=<class 'numpy.float64'>,\n",
              "                                 encoding='utf-8', input='content',\n",
              "                                 lowercase=True, max_df=1.0, max_features=None,\n",
              "                                 min_df=1, ngram_range=(1, 1), norm='l2',\n",
              "                                 preprocessor=None, smooth_idf=True,\n",
              "                                 stop_words=None, strip_accents=None,\n",
              "                                 sublinear_tf=False,\n",
              "                                 token_pattern='...\n",
              "                 RandomForestClassifier(bootstrap=True, ccp_alpha=0.0,\n",
              "                                        class_weight=None, criterion='gini',\n",
              "                                        max_depth=None, max_features='auto',\n",
              "                                        max_leaf_nodes=None, max_samples=None,\n",
              "                                        min_impurity_decrease=0.0,\n",
              "                                        min_impurity_split=None,\n",
              "                                        min_samples_leaf=1, min_samples_split=2,\n",
              "                                        min_weight_fraction_leaf=0.0,\n",
              "                                        n_estimators=100, n_jobs=-1,\n",
              "                                        oob_score=False, random_state=2,\n",
              "                                        verbose=0, warm_start=False))],\n",
              "         verbose=True)"
            ]
          },
          "metadata": {},
          "execution_count": 46
        }
      ]
    },
    {
      "cell_type": "code",
      "metadata": {
        "id": "a509f3c6",
        "colab": {
          "base_uri": "https://localhost:8080/"
        },
        "outputId": "c2f4d652-52d2-497d-d19f-e81ab08cc762"
      },
      "source": [
        "predictions = text_clf_alp.predict(X_test_alp)\n",
        "\n",
        "print(confusion_matrix(y_test_alp,predictions))\n",
        "print()\n",
        "print(classification_report(y_test_alp, predictions))\n",
        "print()\n",
        "print(accuracy_score(y_test_alp, predictions))"
      ],
      "id": "a509f3c6",
      "execution_count": 47,
      "outputs": [
        {
          "output_type": "stream",
          "name": "stdout",
          "text": [
            "[[29  3  3  1  1  2  6]\n",
            " [ 4 46  2  1  1  1  0]\n",
            " [ 1  2 42  1  1  2  3]\n",
            " [ 0  0  2 40  0  0  0]\n",
            " [ 2  6  4  1 32  3  2]\n",
            " [ 1  3  3  0  0 49  1]\n",
            " [ 9  3  6  0  2  2 27]]\n",
            "\n",
            "               precision    recall  f1-score   support\n",
            "\n",
            "      Economy       0.63      0.64      0.64        45\n",
            "    Education       0.73      0.84      0.78        55\n",
            "Entertainment       0.68      0.81      0.74        52\n",
            "  Environment       0.91      0.95      0.93        42\n",
            "       Health       0.86      0.64      0.74        50\n",
            "       Sports       0.83      0.86      0.84        57\n",
            "   Technology       0.69      0.55      0.61        49\n",
            "\n",
            "     accuracy                           0.76       350\n",
            "    macro avg       0.76      0.76      0.75       350\n",
            " weighted avg       0.76      0.76      0.75       350\n",
            "\n",
            "\n",
            "0.7571428571428571\n"
          ]
        }
      ]
    },
    {
      "cell_type": "markdown",
      "metadata": {
        "id": "UN8LI9gf-2dn"
      },
      "source": [
        "## summary"
      ],
      "id": "UN8LI9gf-2dn"
    },
    {
      "cell_type": "code",
      "metadata": {
        "colab": {
          "base_uri": "https://localhost:8080/"
        },
        "id": "SbixSmFi-Po7",
        "outputId": "a2af480c-b837-434e-b88f-aea5abbbfde3"
      },
      "source": [
        "text_clf_sum = Pipeline([('tfidf', TfidfVectorizer()),\n",
        "                     ('clf', RandomForestClassifier(n_jobs=-1, random_state=2))], verbose=True)\n",
        "\n",
        "text_clf_sum.fit(X_train_sum, y_train_sum)  "
      ],
      "id": "SbixSmFi-Po7",
      "execution_count": 48,
      "outputs": [
        {
          "output_type": "stream",
          "name": "stdout",
          "text": [
            "[Pipeline] ............. (step 1 of 2) Processing tfidf, total=   0.2s\n",
            "[Pipeline] ............... (step 2 of 2) Processing clf, total=   0.9s\n"
          ]
        },
        {
          "output_type": "execute_result",
          "data": {
            "text/plain": [
              "Pipeline(memory=None,\n",
              "         steps=[('tfidf',\n",
              "                 TfidfVectorizer(analyzer='word', binary=False,\n",
              "                                 decode_error='strict',\n",
              "                                 dtype=<class 'numpy.float64'>,\n",
              "                                 encoding='utf-8', input='content',\n",
              "                                 lowercase=True, max_df=1.0, max_features=None,\n",
              "                                 min_df=1, ngram_range=(1, 1), norm='l2',\n",
              "                                 preprocessor=None, smooth_idf=True,\n",
              "                                 stop_words=None, strip_accents=None,\n",
              "                                 sublinear_tf=False,\n",
              "                                 token_pattern='...\n",
              "                 RandomForestClassifier(bootstrap=True, ccp_alpha=0.0,\n",
              "                                        class_weight=None, criterion='gini',\n",
              "                                        max_depth=None, max_features='auto',\n",
              "                                        max_leaf_nodes=None, max_samples=None,\n",
              "                                        min_impurity_decrease=0.0,\n",
              "                                        min_impurity_split=None,\n",
              "                                        min_samples_leaf=1, min_samples_split=2,\n",
              "                                        min_weight_fraction_leaf=0.0,\n",
              "                                        n_estimators=100, n_jobs=-1,\n",
              "                                        oob_score=False, random_state=2,\n",
              "                                        verbose=0, warm_start=False))],\n",
              "         verbose=True)"
            ]
          },
          "metadata": {},
          "execution_count": 48
        }
      ]
    },
    {
      "cell_type": "code",
      "metadata": {
        "colab": {
          "base_uri": "https://localhost:8080/"
        },
        "id": "V5owrJ2o-UWp",
        "outputId": "f43e37c2-e808-4ea8-b0f4-3786645396aa"
      },
      "source": [
        "predictions = text_clf_sum.predict(X_test_sum)\n",
        "\n",
        "print(confusion_matrix(y_test_sum,predictions))\n",
        "print()\n",
        "print(classification_report(y_test_sum, predictions))\n",
        "print()\n",
        "print(accuracy_score(y_test_sum, predictions))"
      ],
      "id": "V5owrJ2o-UWp",
      "execution_count": 49,
      "outputs": [
        {
          "output_type": "stream",
          "name": "stdout",
          "text": [
            "[[34  1  5  2  0  0  3]\n",
            " [ 2 45  4  1  2  1  0]\n",
            " [ 3  3 39  2  0  3  2]\n",
            " [ 1  0  1 39  1  0  0]\n",
            " [ 2  5  4  3 32  3  1]\n",
            " [ 0  2  2  3  0 50  0]\n",
            " [ 9  2  4  3  3  2 26]]\n",
            "\n",
            "               precision    recall  f1-score   support\n",
            "\n",
            "      Economy       0.67      0.76      0.71        45\n",
            "    Education       0.78      0.82      0.80        55\n",
            "Entertainment       0.66      0.75      0.70        52\n",
            "  Environment       0.74      0.93      0.82        42\n",
            "       Health       0.84      0.64      0.73        50\n",
            "       Sports       0.85      0.88      0.86        57\n",
            "   Technology       0.81      0.53      0.64        49\n",
            "\n",
            "     accuracy                           0.76       350\n",
            "    macro avg       0.76      0.76      0.75       350\n",
            " weighted avg       0.77      0.76      0.75       350\n",
            "\n",
            "\n",
            "0.7571428571428571\n"
          ]
        }
      ]
    },
    {
      "cell_type": "markdown",
      "metadata": {
        "id": "b87dn19l-7NT"
      },
      "source": [
        "## comp_stem"
      ],
      "id": "b87dn19l-7NT"
    },
    {
      "cell_type": "markdown",
      "metadata": {
        "id": "habdSd7hjUL7"
      },
      "source": [
        "### Test cases"
      ],
      "id": "habdSd7hjUL7"
    },
    {
      "cell_type": "code",
      "metadata": {
        "colab": {
          "base_uri": "https://localhost:8080/"
        },
        "id": "g24MSazgyAvk",
        "outputId": "05a0af99-bdd3-4b68-e37d-56afe5e0fa5a"
      },
      "source": [
        "text_clf_alp = Pipeline([('tfidf', TfidfVectorizer()),\n",
        "                     ('clf', RandomForestClassifier(max_depth= 8, n_estimators= 1250, n_jobs=-1, random_state=2))])\n",
        "\n",
        "text_clf_alp.fit(X_train_alp, y_train_alp)"
      ],
      "id": "g24MSazgyAvk",
      "execution_count": 207,
      "outputs": [
        {
          "output_type": "execute_result",
          "data": {
            "text/plain": [
              "Pipeline(memory=None,\n",
              "         steps=[('tfidf',\n",
              "                 TfidfVectorizer(analyzer='word', binary=False,\n",
              "                                 decode_error='strict',\n",
              "                                 dtype=<class 'numpy.float64'>,\n",
              "                                 encoding='utf-8', input='content',\n",
              "                                 lowercase=True, max_df=1.0, max_features=None,\n",
              "                                 min_df=1, ngram_range=(1, 1), norm='l2',\n",
              "                                 preprocessor=None, smooth_idf=True,\n",
              "                                 stop_words=None, strip_accents=None,\n",
              "                                 sublinear_tf=False,\n",
              "                                 token_pattern='...\n",
              "                 RandomForestClassifier(bootstrap=True, ccp_alpha=0.0,\n",
              "                                        class_weight=None, criterion='gini',\n",
              "                                        max_depth=8, max_features='auto',\n",
              "                                        max_leaf_nodes=None, max_samples=None,\n",
              "                                        min_impurity_decrease=0.0,\n",
              "                                        min_impurity_split=None,\n",
              "                                        min_samples_leaf=1, min_samples_split=2,\n",
              "                                        min_weight_fraction_leaf=0.0,\n",
              "                                        n_estimators=1250, n_jobs=-1,\n",
              "                                        oob_score=False, random_state=2,\n",
              "                                        verbose=0, warm_start=False))],\n",
              "         verbose=False)"
            ]
          },
          "metadata": {},
          "execution_count": 207
        }
      ]
    },
    {
      "cell_type": "code",
      "metadata": {
        "colab": {
          "base_uri": "https://localhost:8080/"
        },
        "id": "yvC6PXjqjLO7",
        "outputId": "08f67c4b-4b77-4b0b-fcdd-b35a6f177d70"
      },
      "source": [
        "predictions = text_clf_alp.predict(X_test_alp)\n",
        "\n",
        "print(confusion_matrix(y_test_alp,predictions))\n",
        "print()\n",
        "print(classification_report(y_test_alp, predictions))\n",
        "print()\n",
        "print(accuracy_score(y_test_alp, predictions))"
      ],
      "id": "yvC6PXjqjLO7",
      "execution_count": 208,
      "outputs": [
        {
          "output_type": "stream",
          "name": "stdout",
          "text": [
            "[[35  1  1  2  0  2  4]\n",
            " [ 2 47  3  1  1  1  0]\n",
            " [ 2  1 44  1  0  1  3]\n",
            " [ 0  0  1 40  1  0  0]\n",
            " [ 1  3  4  1 36  4  1]\n",
            " [ 0  0  3  3  0 51  0]\n",
            " [ 9  0  6  3  2  2 27]]\n",
            "\n",
            "               precision    recall  f1-score   support\n",
            "\n",
            "      Economy       0.71      0.78      0.74        45\n",
            "    Education       0.90      0.85      0.88        55\n",
            "Entertainment       0.71      0.85      0.77        52\n",
            "  Environment       0.78      0.95      0.86        42\n",
            "       Health       0.90      0.72      0.80        50\n",
            "       Sports       0.84      0.89      0.86        57\n",
            "   Technology       0.77      0.55      0.64        49\n",
            "\n",
            "     accuracy                           0.80       350\n",
            "    macro avg       0.80      0.80      0.79       350\n",
            " weighted avg       0.81      0.80      0.80       350\n",
            "\n",
            "\n",
            "0.8\n"
          ]
        }
      ]
    },
    {
      "cell_type": "markdown",
      "metadata": {
        "id": "V1NRbluWjQ6p"
      },
      "source": [
        "### Best Case Params"
      ],
      "id": "V1NRbluWjQ6p"
    },
    {
      "cell_type": "code",
      "metadata": {
        "id": "vw2iFrNG4H-7"
      },
      "source": [
        "#  RandomForestClassifier(bootstrap=True, ccp_alpha=0.0,\n",
        "#                                         class_weight=None, criterion='gini',\n",
        "#                                         max_depth=10, max_features='auto',\n",
        "#                                         max_leaf_nodes=None, max_samples=None,\n",
        "#                                         min_impurity_decrease=0.0,\n",
        "#                                         min_impurity_split=None,\n",
        "#                                         min_samples_leaf=2, min_samples_split=3,\n",
        "#                                         min_weight_fraction_leaf=0.0,\n",
        "#                                         n_estimators=250, n_jobs=-1,\n",
        "#                                         oob_score=False, random_state=2,\n",
        "#                                         verbose=0, warm_start=False))]"
      ],
      "id": "vw2iFrNG4H-7",
      "execution_count": null,
      "outputs": []
    },
    {
      "cell_type": "code",
      "metadata": {
        "colab": {
          "base_uri": "https://localhost:8080/"
        },
        "id": "rQFoYrI5ok39",
        "outputId": "0d8d6588-c16b-4c7a-e352-3a144fd3204f"
      },
      "source": [
        "predictions = best_grid.predict(X_test_alp)\n",
        "\n",
        "print(confusion_matrix(y_test_alp,predictions))\n",
        "print()\n",
        "print(classification_report(y_test_alp, predictions))\n",
        "print()\n",
        "print(accuracy_score(y_test_alp, predictions))"
      ],
      "id": "rQFoYrI5ok39",
      "execution_count": 95,
      "outputs": [
        {
          "output_type": "stream",
          "name": "stdout",
          "text": [
            "[[32  1  0  0  0  0  0  0]\n",
            " [ 2 23  0  0  0  2  0  2]\n",
            " [ 1  1 31  0  1  0  1  0]\n",
            " [ 1  0  0 24  0  2  0  1]\n",
            " [ 0  2  1  2 25  0  0  0]\n",
            " [ 0  2  2  1  1 27  0  0]\n",
            " [ 0  1  1  0  0  0 38  0]\n",
            " [ 0  2  8  2  1  1  0 22]]\n",
            "\n",
            "               precision    recall  f1-score   support\n",
            "\n",
            "     business       0.89      0.97      0.93        33\n",
            "    education       0.72      0.79      0.75        29\n",
            "entertainment       0.72      0.89      0.79        35\n",
            "  environment       0.83      0.86      0.84        28\n",
            "       health       0.89      0.83      0.86        30\n",
            "     politics       0.84      0.82      0.83        33\n",
            "       sports       0.97      0.95      0.96        40\n",
            "         tech       0.88      0.61      0.72        36\n",
            "\n",
            "     accuracy                           0.84       264\n",
            "    macro avg       0.84      0.84      0.84       264\n",
            " weighted avg       0.85      0.84      0.84       264\n",
            "\n",
            "\n",
            "0.8409090909090909\n"
          ]
        }
      ]
    },
    {
      "cell_type": "markdown",
      "metadata": {
        "id": "xSVYX5K-jZCO"
      },
      "source": [
        "### Base Case"
      ],
      "id": "xSVYX5K-jZCO"
    },
    {
      "cell_type": "code",
      "metadata": {
        "colab": {
          "base_uri": "https://localhost:8080/"
        },
        "id": "4vRecIrB_R6y",
        "outputId": "ba0b77b1-574b-4e9a-f35e-61419547c9ef"
      },
      "source": [
        "text_clf_alp = Pipeline([('tfidf', TfidfVectorizer()),\n",
        "                     ('clf', RandomForestClassifier(n_jobs=-1, random_state=2))])\n",
        "\n",
        "text_clf_alp.fit(X_train_alp, y_train_alp)  "
      ],
      "id": "4vRecIrB_R6y",
      "execution_count": 32,
      "outputs": [
        {
          "output_type": "execute_result",
          "data": {
            "text/plain": [
              "Pipeline(memory=None,\n",
              "         steps=[('tfidf',\n",
              "                 TfidfVectorizer(analyzer='word', binary=False,\n",
              "                                 decode_error='strict',\n",
              "                                 dtype=<class 'numpy.float64'>,\n",
              "                                 encoding='utf-8', input='content',\n",
              "                                 lowercase=True, max_df=1.0, max_features=None,\n",
              "                                 min_df=1, ngram_range=(1, 1), norm='l2',\n",
              "                                 preprocessor=None, smooth_idf=True,\n",
              "                                 stop_words=None, strip_accents=None,\n",
              "                                 sublinear_tf=False,\n",
              "                                 token_pattern='...\n",
              "                 RandomForestClassifier(bootstrap=True, ccp_alpha=0.0,\n",
              "                                        class_weight=None, criterion='gini',\n",
              "                                        max_depth=None, max_features='auto',\n",
              "                                        max_leaf_nodes=None, max_samples=None,\n",
              "                                        min_impurity_decrease=0.0,\n",
              "                                        min_impurity_split=None,\n",
              "                                        min_samples_leaf=1, min_samples_split=2,\n",
              "                                        min_weight_fraction_leaf=0.0,\n",
              "                                        n_estimators=100, n_jobs=-1,\n",
              "                                        oob_score=False, random_state=2,\n",
              "                                        verbose=0, warm_start=False))],\n",
              "         verbose=False)"
            ]
          },
          "metadata": {},
          "execution_count": 32
        }
      ]
    },
    {
      "cell_type": "code",
      "metadata": {
        "colab": {
          "base_uri": "https://localhost:8080/"
        },
        "id": "N5gIHSIJ_R0t",
        "outputId": "bd567091-5ef7-41cb-8055-04f4a62a9a8b"
      },
      "source": [
        "predictions = text_clf_alp.predict(X_test_alp)\n",
        "\n",
        "print(confusion_matrix(y_test_alp,predictions))\n",
        "print()\n",
        "print(classification_report(y_test_alp, predictions))\n",
        "print()\n",
        "print(accuracy_score(y_test_alp, predictions))"
      ],
      "id": "N5gIHSIJ_R0t",
      "execution_count": 33,
      "outputs": [
        {
          "output_type": "stream",
          "name": "stdout",
          "text": [
            "[[39  0  1  1  0  1  3]\n",
            " [ 1 47  4  0  1  2  0]\n",
            " [ 2  1 41  1  1  3  3]\n",
            " [ 0  0  0 40  2  0  0]\n",
            " [ 1  2  4  2 38  2  1]\n",
            " [ 1  1  3  0  1 50  1]\n",
            " [ 8  1  5  2  3  3 27]]\n",
            "\n",
            "               precision    recall  f1-score   support\n",
            "\n",
            "      Economy       0.75      0.87      0.80        45\n",
            "    Education       0.90      0.85      0.88        55\n",
            "Entertainment       0.71      0.79      0.75        52\n",
            "  Environment       0.87      0.95      0.91        42\n",
            "       Health       0.83      0.76      0.79        50\n",
            "       Sports       0.82      0.88      0.85        57\n",
            "   Technology       0.77      0.55      0.64        49\n",
            "\n",
            "     accuracy                           0.81       350\n",
            "    macro avg       0.81      0.81      0.80       350\n",
            " weighted avg       0.81      0.81      0.80       350\n",
            "\n",
            "\n",
            "0.8057142857142857\n"
          ]
        }
      ]
    },
    {
      "cell_type": "code",
      "metadata": {
        "id": "0cuxQz3EK42r"
      },
      "source": [
        "predictions = text_clf_alp.predict(X_test_alp)\n",
        "labs = ['Econ','Edu','Ent','Envir','Heal','Sports','Tech']\n",
        "array = confusion_matrix(y_test_alp,predictions)\n",
        "df_cm = pd.DataFrame(array, index = labs, columns = labs)\n",
        "plt.figure(figsize=(20,20))\n",
        "sns.heatmap(df_cm, annot=True, cmap='PiYG', annot_kws={\"size\": 30})\n",
        "plt.title('Confusion Matrix Heatmap', fontsize=48)\n",
        "plt.xticks(fontsize=30, rotation=30)\n",
        "plt.yticks(fontsize=30, rotation=30)\n",
        "plt.ylabel('Predicted', fontsize=22)\n",
        "plt.xlabel('Actual', fontsize=22)\n",
        "plt.savefig('/content/drive/MyDrive/EiT/Week_6/Presentation_6/Visualizations/Confusion_Matrix', transparent=True)\n",
        "plt.show()"
      ],
      "id": "0cuxQz3EK42r",
      "execution_count": null,
      "outputs": []
    },
    {
      "cell_type": "markdown",
      "metadata": {
        "id": "IgkawdUj_a-e"
      },
      "source": [
        "## sum_stem"
      ],
      "id": "IgkawdUj_a-e"
    },
    {
      "cell_type": "code",
      "metadata": {
        "colab": {
          "base_uri": "https://localhost:8080/"
        },
        "id": "AWYxP1Ab_gY-",
        "outputId": "6bccb99f-a2c1-49ba-fe9c-669aaefef806"
      },
      "source": [
        "text_clf_sum = Pipeline([('tfidf', TfidfVectorizer()),\n",
        "                     ('clf', RandomForestClassifier(n_jobs=-1, random_state=2))], verbose=True)\n",
        "\n",
        "text_clf_sum.fit(X_train_sum, y_train_sum)  "
      ],
      "id": "AWYxP1Ab_gY-",
      "execution_count": 53,
      "outputs": [
        {
          "output_type": "stream",
          "name": "stdout",
          "text": [
            "[Pipeline] ............. (step 1 of 2) Processing tfidf, total=   0.2s\n",
            "[Pipeline] ............... (step 2 of 2) Processing clf, total=   0.7s\n"
          ]
        },
        {
          "output_type": "execute_result",
          "data": {
            "text/plain": [
              "Pipeline(memory=None,\n",
              "         steps=[('tfidf',\n",
              "                 TfidfVectorizer(analyzer='word', binary=False,\n",
              "                                 decode_error='strict',\n",
              "                                 dtype=<class 'numpy.float64'>,\n",
              "                                 encoding='utf-8', input='content',\n",
              "                                 lowercase=True, max_df=1.0, max_features=None,\n",
              "                                 min_df=1, ngram_range=(1, 1), norm='l2',\n",
              "                                 preprocessor=None, smooth_idf=True,\n",
              "                                 stop_words=None, strip_accents=None,\n",
              "                                 sublinear_tf=False,\n",
              "                                 token_pattern='...\n",
              "                 RandomForestClassifier(bootstrap=True, ccp_alpha=0.0,\n",
              "                                        class_weight=None, criterion='gini',\n",
              "                                        max_depth=None, max_features='auto',\n",
              "                                        max_leaf_nodes=None, max_samples=None,\n",
              "                                        min_impurity_decrease=0.0,\n",
              "                                        min_impurity_split=None,\n",
              "                                        min_samples_leaf=1, min_samples_split=2,\n",
              "                                        min_weight_fraction_leaf=0.0,\n",
              "                                        n_estimators=100, n_jobs=-1,\n",
              "                                        oob_score=False, random_state=2,\n",
              "                                        verbose=0, warm_start=False))],\n",
              "         verbose=True)"
            ]
          },
          "metadata": {},
          "execution_count": 53
        }
      ]
    },
    {
      "cell_type": "code",
      "metadata": {
        "colab": {
          "base_uri": "https://localhost:8080/"
        },
        "id": "MmVtXqJ__gVG",
        "outputId": "a2664d44-4a4d-4504-fff5-c0702459418d"
      },
      "source": [
        "predictions = text_clf_sum.predict(X_test_sum)\n",
        "\n",
        "print(confusion_matrix(y_test_sum,predictions))\n",
        "print()\n",
        "print(classification_report(y_test_sum, predictions))\n",
        "print()\n",
        "print(accuracy_score(y_test_sum, predictions))"
      ],
      "id": "MmVtXqJ__gVG",
      "execution_count": 54,
      "outputs": [
        {
          "output_type": "stream",
          "name": "stdout",
          "text": [
            "[[30  1  5  2  0  0  7]\n",
            " [ 3 47  1  1  2  1  0]\n",
            " [ 3  3 41  2  1  0  2]\n",
            " [ 0  0  2 37  1  0  2]\n",
            " [ 2  6  4  2 31  4  1]\n",
            " [ 2  2  2  0  0 50  1]\n",
            " [ 7  1  6  4  3  3 25]]\n",
            "\n",
            "               precision    recall  f1-score   support\n",
            "\n",
            "      Economy       0.64      0.67      0.65        45\n",
            "    Education       0.78      0.85      0.82        55\n",
            "Entertainment       0.67      0.79      0.73        52\n",
            "  Environment       0.77      0.88      0.82        42\n",
            "       Health       0.82      0.62      0.70        50\n",
            "       Sports       0.86      0.88      0.87        57\n",
            "   Technology       0.66      0.51      0.57        49\n",
            "\n",
            "     accuracy                           0.75       350\n",
            "    macro avg       0.74      0.74      0.74       350\n",
            " weighted avg       0.75      0.75      0.74       350\n",
            "\n",
            "\n",
            "0.7457142857142857\n"
          ]
        }
      ]
    },
    {
      "cell_type": "markdown",
      "metadata": {
        "id": "tBf59Qtd_tY7"
      },
      "source": [
        "## comp_lem"
      ],
      "id": "tBf59Qtd_tY7"
    },
    {
      "cell_type": "code",
      "metadata": {
        "colab": {
          "base_uri": "https://localhost:8080/"
        },
        "id": "GQmEB85Q_wGG",
        "outputId": "3afc4616-9cab-4a4e-aa7a-1fc3d2a3b9e6"
      },
      "source": [
        "text_clf_alp = Pipeline([('tfidf', TfidfVectorizer()),\n",
        "                     ('clf', RandomForestClassifier(max_depth= 6, n_estimators= 5000, n_jobs=-1, random_state=2))], verbose=True)\n",
        "\n",
        "text_clf_alp.fit(X_train_alp, y_train_alp)  "
      ],
      "id": "GQmEB85Q_wGG",
      "execution_count": 138,
      "outputs": [
        {
          "output_type": "stream",
          "name": "stdout",
          "text": [
            "[Pipeline] ............. (step 1 of 2) Processing tfidf, total=   0.5s\n",
            "[Pipeline] ............... (step 2 of 2) Processing clf, total=  15.5s\n"
          ]
        },
        {
          "output_type": "execute_result",
          "data": {
            "text/plain": [
              "Pipeline(memory=None,\n",
              "         steps=[('tfidf',\n",
              "                 TfidfVectorizer(analyzer='word', binary=False,\n",
              "                                 decode_error='strict',\n",
              "                                 dtype=<class 'numpy.float64'>,\n",
              "                                 encoding='utf-8', input='content',\n",
              "                                 lowercase=True, max_df=1.0, max_features=None,\n",
              "                                 min_df=1, ngram_range=(1, 1), norm='l2',\n",
              "                                 preprocessor=None, smooth_idf=True,\n",
              "                                 stop_words=None, strip_accents=None,\n",
              "                                 sublinear_tf=False,\n",
              "                                 token_pattern='...\n",
              "                 RandomForestClassifier(bootstrap=True, ccp_alpha=0.0,\n",
              "                                        class_weight=None, criterion='gini',\n",
              "                                        max_depth=6, max_features='auto',\n",
              "                                        max_leaf_nodes=None, max_samples=None,\n",
              "                                        min_impurity_decrease=0.0,\n",
              "                                        min_impurity_split=None,\n",
              "                                        min_samples_leaf=1, min_samples_split=2,\n",
              "                                        min_weight_fraction_leaf=0.0,\n",
              "                                        n_estimators=5000, n_jobs=-1,\n",
              "                                        oob_score=False, random_state=2,\n",
              "                                        verbose=0, warm_start=False))],\n",
              "         verbose=True)"
            ]
          },
          "metadata": {},
          "execution_count": 138
        }
      ]
    },
    {
      "cell_type": "code",
      "metadata": {
        "colab": {
          "base_uri": "https://localhost:8080/"
        },
        "id": "rJYuju98_v9D",
        "outputId": "dbda56c2-74d5-41c7-fc93-5c00bd95a25c"
      },
      "source": [
        "predictions = text_clf_alp.predict(X_test_alp)\n",
        "preds = text_clf_alp.predict(X_train_alp)\n",
        "\n",
        "print(confusion_matrix(y_test_alp,predictions))\n",
        "print()\n",
        "# print(classification_report(y_test_alp, predictions))\n",
        "print()\n",
        "print('Train acc: ',accuracy_score(y_train_alp, preds)) \n",
        "print('Val acc: ',accuracy_score(y_test_alp, predictions))"
      ],
      "id": "rJYuju98_v9D",
      "execution_count": 140,
      "outputs": [
        {
          "output_type": "stream",
          "name": "stdout",
          "text": [
            "[[35  1  1  2  0  1  5]\n",
            " [ 2 47  3  1  1  1  0]\n",
            " [ 2  1 45  1  0  0  3]\n",
            " [ 0  0  1 39  2  0  0]\n",
            " [ 1  4  4  1 35  4  1]\n",
            " [ 0  0  3  3  0 51  0]\n",
            " [ 8  0  5  3  2  3 28]]\n",
            "\n",
            "\n",
            "Train acc:  0.9285714285714286\n",
            "Val acc:  0.8\n"
          ]
        }
      ]
    },
    {
      "cell_type": "code",
      "metadata": {
        "id": "ACIrxvKPy9Hw"
      },
      "source": [
        "text = 'Beyond individual developer preferences, we also have to accommodate the fact that station API users can see a lot of story content, photos and audio assets that public API users can\\'t.'"
      ],
      "id": "ACIrxvKPy9Hw",
      "execution_count": 177,
      "outputs": []
    },
    {
      "cell_type": "code",
      "metadata": {
        "id": "JmJ7p6VFyzIl"
      },
      "source": [
        "text = '''Beyond individual developer preferences, we also have to \n",
        "          accommodate the fact that station API users can see a lot \n",
        "          of story content, photos and audio assets that public API users can\\'t.'''\n",
        "\n",
        "nlp = spacy.load('en_core_web_sm')\n",
        "doc = nlp(str(text))\n",
        "lemmed = ''\n",
        "for sent in doc.sents:\n",
        "  temp = ''\n",
        "  for word in sent:\n",
        "    temp += ' '+ word.lemma_\n",
        "  lemmed += ' '+ temp\n",
        "lemmed = [lemmed]"
      ],
      "id": "JmJ7p6VFyzIl",
      "execution_count": 182,
      "outputs": []
    },
    {
      "cell_type": "code",
      "metadata": {
        "colab": {
          "base_uri": "https://localhost:8080/"
        },
        "id": "7Egr4eIYywN5",
        "outputId": "83cb342f-5426-4eee-c285-30c4243a3f2a"
      },
      "source": [
        "text_clf_alp.predict(lemmed)"
      ],
      "id": "7Egr4eIYywN5",
      "execution_count": 183,
      "outputs": [
        {
          "output_type": "execute_result",
          "data": {
            "text/plain": [
              "array(['Technology'], dtype=object)"
            ]
          },
          "metadata": {},
          "execution_count": 183
        }
      ]
    },
    {
      "cell_type": "markdown",
      "metadata": {
        "id": "t2pNGicM_wcu"
      },
      "source": [
        "## sum_lem"
      ],
      "id": "t2pNGicM_wcu"
    },
    {
      "cell_type": "code",
      "metadata": {
        "colab": {
          "base_uri": "https://localhost:8080/"
        },
        "id": "TwnbUu_U_yDo",
        "outputId": "670f2d6f-c3e5-44a6-cba7-0a01eaae3aa5"
      },
      "source": [
        "text_clf_sum = Pipeline([('tfidf', TfidfVectorizer()),\n",
        "                     ('clf', RandomForestClassifier(max_depth= 7, n_estimators= 500,n_jobs=-1, random_state=2))], verbose=True)\n",
        "\n",
        "text_clf_sum.fit(X_train_sum, y_train_sum)  "
      ],
      "id": "TwnbUu_U_yDo",
      "execution_count": 205,
      "outputs": [
        {
          "output_type": "stream",
          "name": "stdout",
          "text": [
            "[Pipeline] ............. (step 1 of 2) Processing tfidf, total=   0.2s\n",
            "[Pipeline] ............... (step 2 of 2) Processing clf, total=   1.5s\n"
          ]
        },
        {
          "output_type": "execute_result",
          "data": {
            "text/plain": [
              "Pipeline(memory=None,\n",
              "         steps=[('tfidf',\n",
              "                 TfidfVectorizer(analyzer='word', binary=False,\n",
              "                                 decode_error='strict',\n",
              "                                 dtype=<class 'numpy.float64'>,\n",
              "                                 encoding='utf-8', input='content',\n",
              "                                 lowercase=True, max_df=1.0, max_features=None,\n",
              "                                 min_df=1, ngram_range=(1, 1), norm='l2',\n",
              "                                 preprocessor=None, smooth_idf=True,\n",
              "                                 stop_words=None, strip_accents=None,\n",
              "                                 sublinear_tf=False,\n",
              "                                 token_pattern='...\n",
              "                 RandomForestClassifier(bootstrap=True, ccp_alpha=0.0,\n",
              "                                        class_weight=None, criterion='gini',\n",
              "                                        max_depth=7, max_features='auto',\n",
              "                                        max_leaf_nodes=None, max_samples=None,\n",
              "                                        min_impurity_decrease=0.0,\n",
              "                                        min_impurity_split=None,\n",
              "                                        min_samples_leaf=1, min_samples_split=2,\n",
              "                                        min_weight_fraction_leaf=0.0,\n",
              "                                        n_estimators=500, n_jobs=-1,\n",
              "                                        oob_score=False, random_state=2,\n",
              "                                        verbose=0, warm_start=False))],\n",
              "         verbose=True)"
            ]
          },
          "metadata": {},
          "execution_count": 205
        }
      ]
    },
    {
      "cell_type": "code",
      "metadata": {
        "colab": {
          "base_uri": "https://localhost:8080/"
        },
        "id": "LpIKVetA_yXH",
        "outputId": "cc45a749-c456-45fa-cbce-70383e537476"
      },
      "source": [
        "predictions = text_clf_sum.predict(X_test_sum)\n",
        "preds = text_clf_alp.predict(X_train_sum)\n",
        "\n",
        "print(confusion_matrix(y_test_sum,predictions))\n",
        "print()\n",
        "print(classification_report(y_test_sum, predictions))\n",
        "print()\n",
        "print('Train acc: ',accuracy_score(y_train_sum, preds)) \n",
        "print('Val acc: ',accuracy_score(y_test_sum, predictions))"
      ],
      "id": "LpIKVetA_yXH",
      "execution_count": 206,
      "outputs": [
        {
          "output_type": "stream",
          "name": "stdout",
          "text": [
            "[[31  1  5  2  0  0  6]\n",
            " [ 4 47  1  1  2  0  0]\n",
            " [ 3  2 40  0  0  3  4]\n",
            " [ 0  0  1 40  1  0  0]\n",
            " [ 3  5  2  4 32  3  1]\n",
            " [ 1  1  0  3  0 51  1]\n",
            " [10  1  5  4  3  2 24]]\n",
            "\n",
            "               precision    recall  f1-score   support\n",
            "\n",
            "      Economy       0.60      0.69      0.64        45\n",
            "    Education       0.82      0.85      0.84        55\n",
            "Entertainment       0.74      0.77      0.75        52\n",
            "  Environment       0.74      0.95      0.83        42\n",
            "       Health       0.84      0.64      0.73        50\n",
            "       Sports       0.86      0.89      0.88        57\n",
            "   Technology       0.67      0.49      0.56        49\n",
            "\n",
            "     accuracy                           0.76       350\n",
            "    macro avg       0.75      0.76      0.75       350\n",
            " weighted avg       0.76      0.76      0.75       350\n",
            "\n",
            "\n",
            "Train acc:  0.8533333333333334\n",
            "Val acc:  0.7571428571428571\n"
          ]
        }
      ]
    },
    {
      "cell_type": "code",
      "metadata": {
        "id": "2JR97RPJSagq"
      },
      "source": [
        ""
      ],
      "id": "2JR97RPJSagq",
      "execution_count": null,
      "outputs": []
    }
  ]
}