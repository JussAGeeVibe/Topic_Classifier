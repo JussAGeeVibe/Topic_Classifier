{
  "nbformat": 4,
  "nbformat_minor": 5,
  "metadata": {
    "kernelspec": {
      "display_name": "Python 3",
      "language": "python",
      "name": "python3"
    },
    "language_info": {
      "codemirror_mode": {
        "name": "ipython",
        "version": 3
      },
      "file_extension": ".py",
      "mimetype": "text/x-python",
      "name": "python",
      "nbconvert_exporter": "python",
      "pygments_lexer": "ipython3",
      "version": "3.9.5"
    },
    "colab": {
      "name": "Project_6_Classifier_Visualizations.ipynb",
      "provenance": []
    }
  },
  "cells": [
    {
      "cell_type": "code",
      "metadata": {
        "id": "653a18fe-98ad-4d73-ad67-b174d8559a8b"
      },
      "source": [
        "import pandas as pd\n",
        "import numpy as np\n",
        "import matplotlib.pyplot as plt\n",
        "%matplotlib inline\n",
        "\n",
        "import seaborn as sns"
      ],
      "id": "653a18fe-98ad-4d73-ad67-b174d8559a8b",
      "execution_count": 1,
      "outputs": []
    },
    {
      "cell_type": "code",
      "metadata": {
        "id": "f4625eae-b7bf-46e1-8726-786653a28004"
      },
      "source": [
        "# importing libraries for NLP\n",
        "\n",
        "import spacy\n",
        "from spacy.lang.en.stop_words import STOP_WORDS as stopwords\n",
        "import re"
      ],
      "id": "f4625eae-b7bf-46e1-8726-786653a28004",
      "execution_count": 2,
      "outputs": []
    },
    {
      "cell_type": "code",
      "metadata": {
        "colab": {
          "base_uri": "https://localhost:8080/"
        },
        "id": "MSw-4tSYdpIT",
        "outputId": "36a315c3-9f2a-4b02-9045-712bbeff7c34"
      },
      "source": [
        "from google.colab import drive\n",
        "drive.mount('/content/drive')"
      ],
      "id": "MSw-4tSYdpIT",
      "execution_count": 3,
      "outputs": [
        {
          "output_type": "stream",
          "name": "stdout",
          "text": [
            "Mounted at /content/drive\n"
          ]
        }
      ]
    },
    {
      "cell_type": "markdown",
      "metadata": {
        "id": "63a3768f-335a-483a-932a-e45660973147"
      },
      "source": [
        "# Loading Data"
      ],
      "id": "63a3768f-335a-483a-932a-e45660973147"
    },
    {
      "cell_type": "code",
      "metadata": {
        "id": "fc8811f7-b5e4-4a98-8b30-3b5bb7f846b4"
      },
      "source": [
        "data = pd.read_csv('/content/drive/MyDrive/EiT/Week_6/Presentation_6/Datasets/train_val_df.csv',index_col=0)"
      ],
      "id": "fc8811f7-b5e4-4a98-8b30-3b5bb7f846b4",
      "execution_count": 108,
      "outputs": []
    },
    {
      "cell_type": "markdown",
      "metadata": {
        "id": "e295b883-439b-4eaa-8f65-19d9229f7d53"
      },
      "source": [
        "### Making a Copy of the Data"
      ],
      "id": "e295b883-439b-4eaa-8f65-19d9229f7d53"
    },
    {
      "cell_type": "code",
      "metadata": {
        "id": "7dad4d6a-b390-4e7f-960a-3b352d080b2c"
      },
      "source": [
        "data2= data.copy()"
      ],
      "id": "7dad4d6a-b390-4e7f-960a-3b352d080b2c",
      "execution_count": 109,
      "outputs": []
    },
    {
      "cell_type": "code",
      "metadata": {
        "id": "010b135b-50ac-47d7-b6df-6b60b964e020",
        "colab": {
          "base_uri": "https://localhost:8080/",
          "height": 0
        },
        "outputId": "e01db0ea-0e31-4b01-e2aa-349706a2d5d1"
      },
      "source": [
        "data2.head(2)"
      ],
      "id": "010b135b-50ac-47d7-b6df-6b60b964e020",
      "execution_count": 110,
      "outputs": [
        {
          "output_type": "execute_result",
          "data": {
            "text/html": [
              "<div>\n",
              "<style scoped>\n",
              "    .dataframe tbody tr th:only-of-type {\n",
              "        vertical-align: middle;\n",
              "    }\n",
              "\n",
              "    .dataframe tbody tr th {\n",
              "        vertical-align: top;\n",
              "    }\n",
              "\n",
              "    .dataframe thead th {\n",
              "        text-align: right;\n",
              "    }\n",
              "</style>\n",
              "<table border=\"1\" class=\"dataframe\">\n",
              "  <thead>\n",
              "    <tr style=\"text-align: right;\">\n",
              "      <th></th>\n",
              "      <th>clean</th>\n",
              "      <th>complete</th>\n",
              "      <th>comp_stem</th>\n",
              "      <th>comp_lem</th>\n",
              "      <th>summary</th>\n",
              "      <th>sum_stem</th>\n",
              "      <th>sum_lem</th>\n",
              "      <th>labels</th>\n",
              "    </tr>\n",
              "  </thead>\n",
              "  <tbody>\n",
              "    <tr>\n",
              "      <th>0</th>\n",
              "      <td>Juul Labs Inc. will pay $40 million to North C...</td>\n",
              "      <td>juul labs pay million north carolina take act...</td>\n",
              "      <td>juul lab pay million north carolina take acti...</td>\n",
              "      <td>juul lab pay million north carolina take ac...</td>\n",
              "      <td>juul labs pay million north carolina take act...</td>\n",
              "      <td>juul lab pay million north carolina take acti...</td>\n",
              "      <td>juul lab pay million north carolina take ac...</td>\n",
              "      <td>Economy</td>\n",
              "    </tr>\n",
              "    <tr>\n",
              "      <th>1</th>\n",
              "      <td>Camila Domonoske An Uber sticker is seen on a ...</td>\n",
              "      <td>camila domonoske uber sticker seen car start ...</td>\n",
              "      <td>camila domonosk uber sticker seen car start p...</td>\n",
              "      <td>camila domonoske uber sticker see car start...</td>\n",
              "      <td>camila domonoske uber sticker seen car start ...</td>\n",
              "      <td>camila domonosk uber sticker seen car start p...</td>\n",
              "      <td>camila domonoske uber sticker see car start...</td>\n",
              "      <td>Economy</td>\n",
              "    </tr>\n",
              "  </tbody>\n",
              "</table>\n",
              "</div>"
            ],
            "text/plain": [
              "                                               clean  ...   labels\n",
              "0  Juul Labs Inc. will pay $40 million to North C...  ...  Economy\n",
              "1  Camila Domonoske An Uber sticker is seen on a ...  ...  Economy\n",
              "\n",
              "[2 rows x 8 columns]"
            ]
          },
          "metadata": {},
          "execution_count": 110
        }
      ]
    },
    {
      "cell_type": "code",
      "metadata": {
        "id": "fe704377",
        "colab": {
          "base_uri": "https://localhost:8080/"
        },
        "outputId": "31c07b1d-77ca-47d2-9229-dfced689e647"
      },
      "source": [
        "data2.columns"
      ],
      "id": "fe704377",
      "execution_count": 111,
      "outputs": [
        {
          "output_type": "execute_result",
          "data": {
            "text/plain": [
              "Index(['clean', 'complete', 'comp_stem', 'comp_lem', 'summary', 'sum_stem',\n",
              "       'sum_lem', 'labels'],\n",
              "      dtype='object')"
            ]
          },
          "metadata": {},
          "execution_count": 111
        }
      ]
    },
    {
      "cell_type": "code",
      "metadata": {
        "id": "a21d609e"
      },
      "source": [
        "data2.drop(['complete', 'comp_stem', 'comp_lem', 'summary', 'sum_stem','sum_lem'],axis=1, inplace=True)"
      ],
      "id": "a21d609e",
      "execution_count": 112,
      "outputs": []
    },
    {
      "cell_type": "code",
      "metadata": {
        "id": "bf12e016",
        "colab": {
          "base_uri": "https://localhost:8080/",
          "height": 0
        },
        "outputId": "4f9e0725-bb3e-44fc-81ff-82692f77bc6c"
      },
      "source": [
        "data2.head()"
      ],
      "id": "bf12e016",
      "execution_count": 113,
      "outputs": [
        {
          "output_type": "execute_result",
          "data": {
            "text/html": [
              "<div>\n",
              "<style scoped>\n",
              "    .dataframe tbody tr th:only-of-type {\n",
              "        vertical-align: middle;\n",
              "    }\n",
              "\n",
              "    .dataframe tbody tr th {\n",
              "        vertical-align: top;\n",
              "    }\n",
              "\n",
              "    .dataframe thead th {\n",
              "        text-align: right;\n",
              "    }\n",
              "</style>\n",
              "<table border=\"1\" class=\"dataframe\">\n",
              "  <thead>\n",
              "    <tr style=\"text-align: right;\">\n",
              "      <th></th>\n",
              "      <th>clean</th>\n",
              "      <th>labels</th>\n",
              "    </tr>\n",
              "  </thead>\n",
              "  <tbody>\n",
              "    <tr>\n",
              "      <th>0</th>\n",
              "      <td>Juul Labs Inc. will pay $40 million to North C...</td>\n",
              "      <td>Economy</td>\n",
              "    </tr>\n",
              "    <tr>\n",
              "      <th>1</th>\n",
              "      <td>Camila Domonoske An Uber sticker is seen on a ...</td>\n",
              "      <td>Economy</td>\n",
              "    </tr>\n",
              "    <tr>\n",
              "      <th>2</th>\n",
              "      <td>Jim Zarroli Amazon founder Jeff Bezos is the w...</td>\n",
              "      <td>Economy</td>\n",
              "    </tr>\n",
              "    <tr>\n",
              "      <th>3</th>\n",
              "      <td>Rachel Martin talks with economist William Spr...</td>\n",
              "      <td>Economy</td>\n",
              "    </tr>\n",
              "    <tr>\n",
              "      <th>4</th>\n",
              "      <td>Bill Chappell \"We are ready for stores to open...</td>\n",
              "      <td>Economy</td>\n",
              "    </tr>\n",
              "  </tbody>\n",
              "</table>\n",
              "</div>"
            ],
            "text/plain": [
              "                                               clean   labels\n",
              "0  Juul Labs Inc. will pay $40 million to North C...  Economy\n",
              "1  Camila Domonoske An Uber sticker is seen on a ...  Economy\n",
              "2  Jim Zarroli Amazon founder Jeff Bezos is the w...  Economy\n",
              "3  Rachel Martin talks with economist William Spr...  Economy\n",
              "4  Bill Chappell \"We are ready for stores to open...  Economy"
            ]
          },
          "metadata": {},
          "execution_count": 113
        }
      ]
    },
    {
      "cell_type": "code",
      "metadata": {
        "id": "5a9e2ead"
      },
      "source": [
        ""
      ],
      "id": "5a9e2ead",
      "execution_count": 113,
      "outputs": []
    },
    {
      "cell_type": "markdown",
      "metadata": {
        "id": "b150b934-0ec7-455b-9450-868152ac8c15"
      },
      "source": [
        "### Counting the data"
      ],
      "id": "b150b934-0ec7-455b-9450-868152ac8c15"
    },
    {
      "cell_type": "code",
      "metadata": {
        "id": "51d9c683-e12e-4812-8eb7-7b8073a607ae",
        "colab": {
          "base_uri": "https://localhost:8080/"
        },
        "outputId": "d6ad0983-72c5-4d60-91a1-a4f1c35458fb"
      },
      "source": [
        "data2.value_counts().sum()"
      ],
      "id": "51d9c683-e12e-4812-8eb7-7b8073a607ae",
      "execution_count": 114,
      "outputs": [
        {
          "output_type": "execute_result",
          "data": {
            "text/plain": [
              "1400"
            ]
          },
          "metadata": {},
          "execution_count": 114
        }
      ]
    },
    {
      "cell_type": "markdown",
      "metadata": {
        "id": "5d2f3965"
      },
      "source": [
        "### Checking the information of the data"
      ],
      "id": "5d2f3965"
    },
    {
      "cell_type": "code",
      "metadata": {
        "id": "ff435aa2",
        "colab": {
          "base_uri": "https://localhost:8080/"
        },
        "outputId": "e74b2f5c-3438-46b6-8afc-7b70e9e5e5fa"
      },
      "source": [
        "data2.info()"
      ],
      "id": "ff435aa2",
      "execution_count": 115,
      "outputs": [
        {
          "output_type": "stream",
          "name": "stdout",
          "text": [
            "<class 'pandas.core.frame.DataFrame'>\n",
            "Int64Index: 1400 entries, 0 to 1399\n",
            "Data columns (total 2 columns):\n",
            " #   Column  Non-Null Count  Dtype \n",
            "---  ------  --------------  ----- \n",
            " 0   clean   1400 non-null   object\n",
            " 1   labels  1400 non-null   object\n",
            "dtypes: object(2)\n",
            "memory usage: 32.8+ KB\n"
          ]
        }
      ]
    },
    {
      "cell_type": "code",
      "metadata": {
        "id": "55d19c58",
        "colab": {
          "base_uri": "https://localhost:8080/",
          "height": 0
        },
        "outputId": "df8cb01f-af95-4ba8-a2a0-cacbfaabd1b3"
      },
      "source": [
        "data2.describe()"
      ],
      "id": "55d19c58",
      "execution_count": 116,
      "outputs": [
        {
          "output_type": "execute_result",
          "data": {
            "text/html": [
              "<div>\n",
              "<style scoped>\n",
              "    .dataframe tbody tr th:only-of-type {\n",
              "        vertical-align: middle;\n",
              "    }\n",
              "\n",
              "    .dataframe tbody tr th {\n",
              "        vertical-align: top;\n",
              "    }\n",
              "\n",
              "    .dataframe thead th {\n",
              "        text-align: right;\n",
              "    }\n",
              "</style>\n",
              "<table border=\"1\" class=\"dataframe\">\n",
              "  <thead>\n",
              "    <tr style=\"text-align: right;\">\n",
              "      <th></th>\n",
              "      <th>clean</th>\n",
              "      <th>labels</th>\n",
              "    </tr>\n",
              "  </thead>\n",
              "  <tbody>\n",
              "    <tr>\n",
              "      <th>count</th>\n",
              "      <td>1400</td>\n",
              "      <td>1400</td>\n",
              "    </tr>\n",
              "    <tr>\n",
              "      <th>unique</th>\n",
              "      <td>1389</td>\n",
              "      <td>7</td>\n",
              "    </tr>\n",
              "    <tr>\n",
              "      <th>top</th>\n",
              "      <td>Barry Gordemer Noel King Steve Inskeep Four-ye...</td>\n",
              "      <td>Health</td>\n",
              "    </tr>\n",
              "    <tr>\n",
              "      <th>freq</th>\n",
              "      <td>2</td>\n",
              "      <td>200</td>\n",
              "    </tr>\n",
              "  </tbody>\n",
              "</table>\n",
              "</div>"
            ],
            "text/plain": [
              "                                                    clean  labels\n",
              "count                                                1400    1400\n",
              "unique                                               1389       7\n",
              "top     Barry Gordemer Noel King Steve Inskeep Four-ye...  Health\n",
              "freq                                                    2     200"
            ]
          },
          "metadata": {},
          "execution_count": 116
        }
      ]
    },
    {
      "cell_type": "markdown",
      "metadata": {
        "id": "a9576605-ff6a-4c59-925b-2cefadf2bd14"
      },
      "source": [
        "### Checking for missing data"
      ],
      "id": "a9576605-ff6a-4c59-925b-2cefadf2bd14"
    },
    {
      "cell_type": "code",
      "metadata": {
        "id": "516df1f9-0014-4053-b1fc-9d36354bd30c",
        "colab": {
          "base_uri": "https://localhost:8080/"
        },
        "outputId": "71318b8f-0e97-4438-c98f-ddc25b717255"
      },
      "source": [
        "data2.isnull().sum()"
      ],
      "id": "516df1f9-0014-4053-b1fc-9d36354bd30c",
      "execution_count": 117,
      "outputs": [
        {
          "output_type": "execute_result",
          "data": {
            "text/plain": [
              "clean     0\n",
              "labels    0\n",
              "dtype: int64"
            ]
          },
          "metadata": {},
          "execution_count": 117
        }
      ]
    },
    {
      "cell_type": "code",
      "metadata": {
        "id": "862dca2b-4ed0-435e-bab4-3e86e1fcb93a",
        "colab": {
          "base_uri": "https://localhost:8080/",
          "height": 0
        },
        "outputId": "f6ed2685-4796-4bc1-c028-fc7ad0450f92"
      },
      "source": [
        "sns.heatmap(data2.isnull(),cmap='viridis',yticklabels=False,cbar=False);"
      ],
      "id": "862dca2b-4ed0-435e-bab4-3e86e1fcb93a",
      "execution_count": 118,
      "outputs": [
        {
          "output_type": "display_data",
          "data": {
            "image/png": "[encoded data removed]",
            "text/plain": [
              "<Figure size 432x288 with 1 Axes>"
            ]
          },
          "metadata": {
            "needs_background": "light"
          }
        }
      ]
    },
    {
      "cell_type": "markdown",
      "metadata": {
        "id": "f99fbe5c-a26d-474a-9624-0555ce533d1c"
      },
      "source": [
        "### Dropping missing values"
      ],
      "id": "f99fbe5c-a26d-474a-9624-0555ce533d1c"
    },
    {
      "cell_type": "code",
      "metadata": {
        "id": "e7639bea-b005-4939-bac8-77fd00a3c2ee"
      },
      "source": [
        "data2.dropna(inplace=True)"
      ],
      "id": "e7639bea-b005-4939-bac8-77fd00a3c2ee",
      "execution_count": 119,
      "outputs": []
    },
    {
      "cell_type": "code",
      "metadata": {
        "id": "8bef4278-cb6a-4367-adc4-ab24c79b87f4",
        "colab": {
          "base_uri": "https://localhost:8080/"
        },
        "outputId": "a52fe056-1dc5-4e75-e3a5-71e77d0dfaca"
      },
      "source": [
        "data2.isnull().sum()"
      ],
      "id": "8bef4278-cb6a-4367-adc4-ab24c79b87f4",
      "execution_count": 120,
      "outputs": [
        {
          "output_type": "execute_result",
          "data": {
            "text/plain": [
              "clean     0\n",
              "labels    0\n",
              "dtype: int64"
            ]
          },
          "metadata": {},
          "execution_count": 120
        }
      ]
    },
    {
      "cell_type": "code",
      "metadata": {
        "id": "8b5352cd-30dc-4ea7-a518-736c1f949491",
        "colab": {
          "base_uri": "https://localhost:8080/",
          "height": 0
        },
        "outputId": "8d9bfe92-3e46-4edd-bed7-96e3786cb939"
      },
      "source": [
        "data2.head(3)"
      ],
      "id": "8b5352cd-30dc-4ea7-a518-736c1f949491",
      "execution_count": 121,
      "outputs": [
        {
          "output_type": "execute_result",
          "data": {
            "text/html": [
              "<div>\n",
              "<style scoped>\n",
              "    .dataframe tbody tr th:only-of-type {\n",
              "        vertical-align: middle;\n",
              "    }\n",
              "\n",
              "    .dataframe tbody tr th {\n",
              "        vertical-align: top;\n",
              "    }\n",
              "\n",
              "    .dataframe thead th {\n",
              "        text-align: right;\n",
              "    }\n",
              "</style>\n",
              "<table border=\"1\" class=\"dataframe\">\n",
              "  <thead>\n",
              "    <tr style=\"text-align: right;\">\n",
              "      <th></th>\n",
              "      <th>clean</th>\n",
              "      <th>labels</th>\n",
              "    </tr>\n",
              "  </thead>\n",
              "  <tbody>\n",
              "    <tr>\n",
              "      <th>0</th>\n",
              "      <td>Juul Labs Inc. will pay $40 million to North C...</td>\n",
              "      <td>Economy</td>\n",
              "    </tr>\n",
              "    <tr>\n",
              "      <th>1</th>\n",
              "      <td>Camila Domonoske An Uber sticker is seen on a ...</td>\n",
              "      <td>Economy</td>\n",
              "    </tr>\n",
              "    <tr>\n",
              "      <th>2</th>\n",
              "      <td>Jim Zarroli Amazon founder Jeff Bezos is the w...</td>\n",
              "      <td>Economy</td>\n",
              "    </tr>\n",
              "  </tbody>\n",
              "</table>\n",
              "</div>"
            ],
            "text/plain": [
              "                                               clean   labels\n",
              "0  Juul Labs Inc. will pay $40 million to North C...  Economy\n",
              "1  Camila Domonoske An Uber sticker is seen on a ...  Economy\n",
              "2  Jim Zarroli Amazon founder Jeff Bezos is the w...  Economy"
            ]
          },
          "metadata": {},
          "execution_count": 121
        }
      ]
    },
    {
      "cell_type": "markdown",
      "metadata": {
        "id": "8b68b010"
      },
      "source": [
        "### Checking the column"
      ],
      "id": "8b68b010"
    },
    {
      "cell_type": "code",
      "metadata": {
        "id": "1cbe3e11",
        "colab": {
          "base_uri": "https://localhost:8080/"
        },
        "outputId": "ac69d45f-1f12-4a46-efd7-b702ea0c751d"
      },
      "source": [
        "data2.columns"
      ],
      "id": "1cbe3e11",
      "execution_count": 122,
      "outputs": [
        {
          "output_type": "execute_result",
          "data": {
            "text/plain": [
              "Index(['clean', 'labels'], dtype='object')"
            ]
          },
          "metadata": {},
          "execution_count": 122
        }
      ]
    },
    {
      "cell_type": "markdown",
      "metadata": {
        "id": "bd5502c3-5edb-4fdc-94e5-e149baa2ff71"
      },
      "source": [
        "### Checking for blank spaces in `clean`"
      ],
      "id": "bd5502c3-5edb-4fdc-94e5-e149baa2ff71"
    },
    {
      "cell_type": "code",
      "metadata": {
        "id": "d9c42a58-e5a0-4f59-803b-3fe03cd166d3"
      },
      "source": [
        "blankspace = []\n",
        "\n",
        "\n",
        "for index, clean, labels in data2.itertuples():\n",
        "    if clean.isspace():\n",
        "        blankspace.append(index)\n",
        "    else:\n",
        "        False\n",
        "            \n"
      ],
      "id": "d9c42a58-e5a0-4f59-803b-3fe03cd166d3",
      "execution_count": 123,
      "outputs": []
    },
    {
      "cell_type": "code",
      "metadata": {
        "id": "29e81274-16f3-40b8-a13e-7438396877a2",
        "colab": {
          "base_uri": "https://localhost:8080/"
        },
        "outputId": "e3699d5f-6c46-4b5e-fc18-ee94948bcfdb"
      },
      "source": [
        "print(f\"\"\" \n",
        "Length of blank spaces : {len(blankspace)}\"\"\")"
      ],
      "id": "29e81274-16f3-40b8-a13e-7438396877a2",
      "execution_count": 124,
      "outputs": [
        {
          "output_type": "stream",
          "name": "stdout",
          "text": [
            " \n",
            "Length of blank spaces : 0\n"
          ]
        }
      ]
    },
    {
      "cell_type": "markdown",
      "metadata": {
        "id": "525de0da-07f9-48f0-89ce-affbedf31813"
      },
      "source": [
        "### Checking the `Labels`"
      ],
      "id": "525de0da-07f9-48f0-89ce-affbedf31813"
    },
    {
      "cell_type": "code",
      "metadata": {
        "id": "88fb52bc-4798-4023-ba3e-9b0b37131628",
        "colab": {
          "base_uri": "https://localhost:8080/"
        },
        "outputId": "7f9da677-e33b-4fae-fd66-f5b0d8958313"
      },
      "source": [
        "data2['labels'].value_counts()"
      ],
      "id": "88fb52bc-4798-4023-ba3e-9b0b37131628",
      "execution_count": 125,
      "outputs": [
        {
          "output_type": "execute_result",
          "data": {
            "text/plain": [
              "Health           200\n",
              "Economy          200\n",
              "Environment      200\n",
              "Technology       200\n",
              "Entertainment    200\n",
              "Education        200\n",
              "Sports           200\n",
              "Name: labels, dtype: int64"
            ]
          },
          "metadata": {},
          "execution_count": 125
        }
      ]
    },
    {
      "cell_type": "code",
      "metadata": {
        "id": "c79e86b3-d33f-4e4c-aa82-7c81cc9a25dd",
        "colab": {
          "base_uri": "https://localhost:8080/",
          "height": 0
        },
        "outputId": "ce74a637-296c-4ef1-bd59-fd62f3407466"
      },
      "source": [
        "sns.set_theme(style=\"whitegrid\")\n",
        "plt.figure(dpi = 111)\n",
        "sns.countplot(x='labels', data= data2)\n",
        "plt.xticks(rotation=70)\n",
        "plt.title(\"Class Labels\")\n",
        "plt.savefig(\"class_labels.png\")"
      ],
      "id": "c79e86b3-d33f-4e4c-aa82-7c81cc9a25dd",
      "execution_count": 126,
      "outputs": [
        {
          "output_type": "display_data",
          "data": {
            "image/png": "[encoded data removed]",
            "text/plain": [
              "<Figure size 666x444 with 1 Axes>"
            ]
          },
          "metadata": {}
        }
      ]
    },
    {
      "cell_type": "code",
      "metadata": {
        "id": "a7b1588f-f5fa-43dc-8eff-a1260e72c0cc",
        "colab": {
          "base_uri": "https://localhost:8080/",
          "height": 0
        },
        "outputId": "e79df25c-e057-4b94-d9ec-814c71165732"
      },
      "source": [
        "\n",
        "data2['labels'].value_counts().plot.pie(autopct='%1.2f%%',figsize=(16,10))\n",
        "plt.savefig(\"Pie_chat.png\")"
      ],
      "id": "a7b1588f-f5fa-43dc-8eff-a1260e72c0cc",
      "execution_count": 127,
      "outputs": [
        {
          "output_type": "display_data",
          "data": {
            "image/png": "[encoded data removed]",
            "text/plain": [
              "<Figure size 1152x720 with 1 Axes>"
            ]
          },
          "metadata": {}
        }
      ]
    },
    {
      "cell_type": "markdown",
      "metadata": {
        "id": "2e7f5956-cf4f-48c6-8ef3-cb877dc90343"
      },
      "source": [
        "# Exploring the `clean` column"
      ],
      "id": "2e7f5956-cf4f-48c6-8ef3-cb877dc90343"
    },
    {
      "cell_type": "code",
      "metadata": {
        "id": "aa7cc57d-23b9-49f3-97b8-2ed9edce57fb",
        "colab": {
          "base_uri": "https://localhost:8080/",
          "height": 143
        },
        "outputId": "4dd7ae26-ecc0-4d18-e325-1613b16a19a9"
      },
      "source": [
        "data2.head(3)"
      ],
      "id": "aa7cc57d-23b9-49f3-97b8-2ed9edce57fb",
      "execution_count": 128,
      "outputs": [
        {
          "output_type": "execute_result",
          "data": {
            "text/html": [
              "<div>\n",
              "<style scoped>\n",
              "    .dataframe tbody tr th:only-of-type {\n",
              "        vertical-align: middle;\n",
              "    }\n",
              "\n",
              "    .dataframe tbody tr th {\n",
              "        vertical-align: top;\n",
              "    }\n",
              "\n",
              "    .dataframe thead th {\n",
              "        text-align: right;\n",
              "    }\n",
              "</style>\n",
              "<table border=\"1\" class=\"dataframe\">\n",
              "  <thead>\n",
              "    <tr style=\"text-align: right;\">\n",
              "      <th></th>\n",
              "      <th>clean</th>\n",
              "      <th>labels</th>\n",
              "    </tr>\n",
              "  </thead>\n",
              "  <tbody>\n",
              "    <tr>\n",
              "      <th>0</th>\n",
              "      <td>Juul Labs Inc. will pay $40 million to North C...</td>\n",
              "      <td>Economy</td>\n",
              "    </tr>\n",
              "    <tr>\n",
              "      <th>1</th>\n",
              "      <td>Camila Domonoske An Uber sticker is seen on a ...</td>\n",
              "      <td>Economy</td>\n",
              "    </tr>\n",
              "    <tr>\n",
              "      <th>2</th>\n",
              "      <td>Jim Zarroli Amazon founder Jeff Bezos is the w...</td>\n",
              "      <td>Economy</td>\n",
              "    </tr>\n",
              "  </tbody>\n",
              "</table>\n",
              "</div>"
            ],
            "text/plain": [
              "                                               clean   labels\n",
              "0  Juul Labs Inc. will pay $40 million to North C...  Economy\n",
              "1  Camila Domonoske An Uber sticker is seen on a ...  Economy\n",
              "2  Jim Zarroli Amazon founder Jeff Bezos is the w...  Economy"
            ]
          },
          "metadata": {},
          "execution_count": 128
        }
      ]
    },
    {
      "cell_type": "markdown",
      "metadata": {
        "id": "a250443b-575e-4080-90a9-7d281274909d"
      },
      "source": [
        "## Creating a new dataframe for  clean"
      ],
      "id": "a250443b-575e-4080-90a9-7d281274909d"
    },
    {
      "cell_type": "code",
      "metadata": {
        "id": "c240d670-6447-4f4c-9a25-89bafe8c2683"
      },
      "source": [
        "data3 = data2.copy()"
      ],
      "id": "c240d670-6447-4f4c-9a25-89bafe8c2683",
      "execution_count": 129,
      "outputs": []
    },
    {
      "cell_type": "code",
      "metadata": {
        "id": "02ff8f0c-5876-4abb-adbe-a89bfb763c50",
        "colab": {
          "base_uri": "https://localhost:8080/",
          "height": 206
        },
        "outputId": "b96126dd-0e0d-4fe8-af24-1e255b4e5fc1"
      },
      "source": [
        "data3.sample(5)"
      ],
      "id": "02ff8f0c-5876-4abb-adbe-a89bfb763c50",
      "execution_count": 130,
      "outputs": [
        {
          "output_type": "execute_result",
          "data": {
            "text/html": [
              "<div>\n",
              "<style scoped>\n",
              "    .dataframe tbody tr th:only-of-type {\n",
              "        vertical-align: middle;\n",
              "    }\n",
              "\n",
              "    .dataframe tbody tr th {\n",
              "        vertical-align: top;\n",
              "    }\n",
              "\n",
              "    .dataframe thead th {\n",
              "        text-align: right;\n",
              "    }\n",
              "</style>\n",
              "<table border=\"1\" class=\"dataframe\">\n",
              "  <thead>\n",
              "    <tr style=\"text-align: right;\">\n",
              "      <th></th>\n",
              "      <th>clean</th>\n",
              "      <th>labels</th>\n",
              "    </tr>\n",
              "  </thead>\n",
              "  <tbody>\n",
              "    <tr>\n",
              "      <th>903</th>\n",
              "      <td>Merrit Kennedy U.S. gymnast Simone Biles shown...</td>\n",
              "      <td>Sports</td>\n",
              "    </tr>\n",
              "    <tr>\n",
              "      <th>776</th>\n",
              "      <td>Wynne Davis Pink ponds like the one seen here ...</td>\n",
              "      <td>Environment</td>\n",
              "    </tr>\n",
              "    <tr>\n",
              "      <th>249</th>\n",
              "      <td>Scott Simon talks to the former football star ...</td>\n",
              "      <td>Entertainment</td>\n",
              "    </tr>\n",
              "    <tr>\n",
              "      <th>769</th>\n",
              "      <td>Deepa Shivaram Marine biologist Christopher Ha...</td>\n",
              "      <td>Environment</td>\n",
              "    </tr>\n",
              "    <tr>\n",
              "      <th>836</th>\n",
              "      <td>Merrit Kennedy Vanessa Romo Suzanne Nuyen A ve...</td>\n",
              "      <td>Sports</td>\n",
              "    </tr>\n",
              "  </tbody>\n",
              "</table>\n",
              "</div>"
            ],
            "text/plain": [
              "                                                 clean         labels\n",
              "903  Merrit Kennedy U.S. gymnast Simone Biles shown...         Sports\n",
              "776  Wynne Davis Pink ponds like the one seen here ...    Environment\n",
              "249  Scott Simon talks to the former football star ...  Entertainment\n",
              "769  Deepa Shivaram Marine biologist Christopher Ha...    Environment\n",
              "836  Merrit Kennedy Vanessa Romo Suzanne Nuyen A ve...         Sports"
            ]
          },
          "metadata": {},
          "execution_count": 130
        }
      ]
    },
    {
      "cell_type": "markdown",
      "metadata": {
        "id": "911401bb-983d-4040-a4d7-8c710870a9b6"
      },
      "source": [
        "### Getting word count "
      ],
      "id": "911401bb-983d-4040-a4d7-8c710870a9b6"
    },
    {
      "cell_type": "code",
      "metadata": {
        "id": "7c6ec756-0d70-4d2b-a862-ba49e046bbc0"
      },
      "source": [
        "data2['word_counts'] = data2['clean'].apply(lambda x: len(str(x).split()))"
      ],
      "id": "7c6ec756-0d70-4d2b-a862-ba49e046bbc0",
      "execution_count": 131,
      "outputs": []
    },
    {
      "cell_type": "code",
      "metadata": {
        "id": "b7d660be-25fd-4e9e-941c-4bef3dd84b0a",
        "colab": {
          "base_uri": "https://localhost:8080/",
          "height": 206
        },
        "outputId": "ad066f72-34b7-4fc5-8089-8e70095f72d0"
      },
      "source": [
        "data2.head()"
      ],
      "id": "b7d660be-25fd-4e9e-941c-4bef3dd84b0a",
      "execution_count": 132,
      "outputs": [
        {
          "output_type": "execute_result",
          "data": {
            "text/html": [
              "<div>\n",
              "<style scoped>\n",
              "    .dataframe tbody tr th:only-of-type {\n",
              "        vertical-align: middle;\n",
              "    }\n",
              "\n",
              "    .dataframe tbody tr th {\n",
              "        vertical-align: top;\n",
              "    }\n",
              "\n",
              "    .dataframe thead th {\n",
              "        text-align: right;\n",
              "    }\n",
              "</style>\n",
              "<table border=\"1\" class=\"dataframe\">\n",
              "  <thead>\n",
              "    <tr style=\"text-align: right;\">\n",
              "      <th></th>\n",
              "      <th>clean</th>\n",
              "      <th>labels</th>\n",
              "      <th>word_counts</th>\n",
              "    </tr>\n",
              "  </thead>\n",
              "  <tbody>\n",
              "    <tr>\n",
              "      <th>0</th>\n",
              "      <td>Juul Labs Inc. will pay $40 million to North C...</td>\n",
              "      <td>Economy</td>\n",
              "      <td>836</td>\n",
              "    </tr>\n",
              "    <tr>\n",
              "      <th>1</th>\n",
              "      <td>Camila Domonoske An Uber sticker is seen on a ...</td>\n",
              "      <td>Economy</td>\n",
              "      <td>271</td>\n",
              "    </tr>\n",
              "    <tr>\n",
              "      <th>2</th>\n",
              "      <td>Jim Zarroli Amazon founder Jeff Bezos is the w...</td>\n",
              "      <td>Economy</td>\n",
              "      <td>801</td>\n",
              "    </tr>\n",
              "    <tr>\n",
              "      <th>3</th>\n",
              "      <td>Rachel Martin talks with economist William Spr...</td>\n",
              "      <td>Economy</td>\n",
              "      <td>883</td>\n",
              "    </tr>\n",
              "    <tr>\n",
              "      <th>4</th>\n",
              "      <td>Bill Chappell \"We are ready for stores to open...</td>\n",
              "      <td>Economy</td>\n",
              "      <td>672</td>\n",
              "    </tr>\n",
              "  </tbody>\n",
              "</table>\n",
              "</div>"
            ],
            "text/plain": [
              "                                               clean   labels  word_counts\n",
              "0  Juul Labs Inc. will pay $40 million to North C...  Economy          836\n",
              "1  Camila Domonoske An Uber sticker is seen on a ...  Economy          271\n",
              "2  Jim Zarroli Amazon founder Jeff Bezos is the w...  Economy          801\n",
              "3  Rachel Martin talks with economist William Spr...  Economy          883\n",
              "4  Bill Chappell \"We are ready for stores to open...  Economy          672"
            ]
          },
          "metadata": {},
          "execution_count": 132
        }
      ]
    },
    {
      "cell_type": "markdown",
      "metadata": {
        "id": "be5d7217-14c2-4ab1-8c04-f2c339e367d3"
      },
      "source": [
        "### Characters Count"
      ],
      "id": "be5d7217-14c2-4ab1-8c04-f2c339e367d3"
    },
    {
      "cell_type": "code",
      "metadata": {
        "id": "8b07f90c-0849-4dc7-9c20-408bc2771fe5"
      },
      "source": [
        "def char_counts(x):\n",
        "    s = x.split()\n",
        "    x = ''.join(s)\n",
        "    return len(x)"
      ],
      "id": "8b07f90c-0849-4dc7-9c20-408bc2771fe5",
      "execution_count": 133,
      "outputs": []
    },
    {
      "cell_type": "code",
      "metadata": {
        "id": "7d62444c-e5fe-4804-a00f-f95f24d3b4b4"
      },
      "source": [
        "data2['char_counts'] = data2['clean'].apply(lambda x: char_counts(str(x)))"
      ],
      "id": "7d62444c-e5fe-4804-a00f-f95f24d3b4b4",
      "execution_count": 134,
      "outputs": []
    },
    {
      "cell_type": "code",
      "metadata": {
        "id": "f0840e42-9425-47a5-8437-21f72f526e43",
        "colab": {
          "base_uri": "https://localhost:8080/",
          "height": 0
        },
        "outputId": "4490d5f2-8fe2-4863-c100-6ba5a1d89764"
      },
      "source": [
        "data2.head()"
      ],
      "id": "f0840e42-9425-47a5-8437-21f72f526e43",
      "execution_count": 135,
      "outputs": [
        {
          "output_type": "execute_result",
          "data": {
            "text/html": [
              "<div>\n",
              "<style scoped>\n",
              "    .dataframe tbody tr th:only-of-type {\n",
              "        vertical-align: middle;\n",
              "    }\n",
              "\n",
              "    .dataframe tbody tr th {\n",
              "        vertical-align: top;\n",
              "    }\n",
              "\n",
              "    .dataframe thead th {\n",
              "        text-align: right;\n",
              "    }\n",
              "</style>\n",
              "<table border=\"1\" class=\"dataframe\">\n",
              "  <thead>\n",
              "    <tr style=\"text-align: right;\">\n",
              "      <th></th>\n",
              "      <th>clean</th>\n",
              "      <th>labels</th>\n",
              "      <th>word_counts</th>\n",
              "      <th>char_counts</th>\n",
              "    </tr>\n",
              "  </thead>\n",
              "  <tbody>\n",
              "    <tr>\n",
              "      <th>0</th>\n",
              "      <td>Juul Labs Inc. will pay $40 million to North C...</td>\n",
              "      <td>Economy</td>\n",
              "      <td>836</td>\n",
              "      <td>4320</td>\n",
              "    </tr>\n",
              "    <tr>\n",
              "      <th>1</th>\n",
              "      <td>Camila Domonoske An Uber sticker is seen on a ...</td>\n",
              "      <td>Economy</td>\n",
              "      <td>271</td>\n",
              "      <td>1386</td>\n",
              "    </tr>\n",
              "    <tr>\n",
              "      <th>2</th>\n",
              "      <td>Jim Zarroli Amazon founder Jeff Bezos is the w...</td>\n",
              "      <td>Economy</td>\n",
              "      <td>801</td>\n",
              "      <td>3988</td>\n",
              "    </tr>\n",
              "    <tr>\n",
              "      <th>3</th>\n",
              "      <td>Rachel Martin talks with economist William Spr...</td>\n",
              "      <td>Economy</td>\n",
              "      <td>883</td>\n",
              "      <td>4304</td>\n",
              "    </tr>\n",
              "    <tr>\n",
              "      <th>4</th>\n",
              "      <td>Bill Chappell \"We are ready for stores to open...</td>\n",
              "      <td>Economy</td>\n",
              "      <td>672</td>\n",
              "      <td>3211</td>\n",
              "    </tr>\n",
              "  </tbody>\n",
              "</table>\n",
              "</div>"
            ],
            "text/plain": [
              "                                               clean  ... char_counts\n",
              "0  Juul Labs Inc. will pay $40 million to North C...  ...        4320\n",
              "1  Camila Domonoske An Uber sticker is seen on a ...  ...        1386\n",
              "2  Jim Zarroli Amazon founder Jeff Bezos is the w...  ...        3988\n",
              "3  Rachel Martin talks with economist William Spr...  ...        4304\n",
              "4  Bill Chappell \"We are ready for stores to open...  ...        3211\n",
              "\n",
              "[5 rows x 4 columns]"
            ]
          },
          "metadata": {},
          "execution_count": 135
        }
      ]
    },
    {
      "cell_type": "markdown",
      "metadata": {
        "id": "83d45172-24bc-4940-888e-9f09e301478a"
      },
      "source": [
        "### Average word length"
      ],
      "id": "83d45172-24bc-4940-888e-9f09e301478a"
    },
    {
      "cell_type": "code",
      "metadata": {
        "id": "f518c633-445c-4c86-bdcc-8ff81befc163"
      },
      "source": [
        "data2['avg_word_len'] = data2['char_counts']/data2['word_counts']"
      ],
      "id": "f518c633-445c-4c86-bdcc-8ff81befc163",
      "execution_count": 136,
      "outputs": []
    },
    {
      "cell_type": "code",
      "metadata": {
        "id": "a893cd1e-a29d-4e43-9a10-5901b44c2b97",
        "colab": {
          "base_uri": "https://localhost:8080/",
          "height": 0
        },
        "outputId": "23445b9a-246f-4558-cadb-be7bf25c200a"
      },
      "source": [
        "data2.head()"
      ],
      "id": "a893cd1e-a29d-4e43-9a10-5901b44c2b97",
      "execution_count": 137,
      "outputs": [
        {
          "output_type": "execute_result",
          "data": {
            "text/html": [
              "<div>\n",
              "<style scoped>\n",
              "    .dataframe tbody tr th:only-of-type {\n",
              "        vertical-align: middle;\n",
              "    }\n",
              "\n",
              "    .dataframe tbody tr th {\n",
              "        vertical-align: top;\n",
              "    }\n",
              "\n",
              "    .dataframe thead th {\n",
              "        text-align: right;\n",
              "    }\n",
              "</style>\n",
              "<table border=\"1\" class=\"dataframe\">\n",
              "  <thead>\n",
              "    <tr style=\"text-align: right;\">\n",
              "      <th></th>\n",
              "      <th>clean</th>\n",
              "      <th>labels</th>\n",
              "      <th>word_counts</th>\n",
              "      <th>char_counts</th>\n",
              "      <th>avg_word_len</th>\n",
              "    </tr>\n",
              "  </thead>\n",
              "  <tbody>\n",
              "    <tr>\n",
              "      <th>0</th>\n",
              "      <td>Juul Labs Inc. will pay $40 million to North C...</td>\n",
              "      <td>Economy</td>\n",
              "      <td>836</td>\n",
              "      <td>4320</td>\n",
              "      <td>5.167464</td>\n",
              "    </tr>\n",
              "    <tr>\n",
              "      <th>1</th>\n",
              "      <td>Camila Domonoske An Uber sticker is seen on a ...</td>\n",
              "      <td>Economy</td>\n",
              "      <td>271</td>\n",
              "      <td>1386</td>\n",
              "      <td>5.114391</td>\n",
              "    </tr>\n",
              "    <tr>\n",
              "      <th>2</th>\n",
              "      <td>Jim Zarroli Amazon founder Jeff Bezos is the w...</td>\n",
              "      <td>Economy</td>\n",
              "      <td>801</td>\n",
              "      <td>3988</td>\n",
              "      <td>4.978777</td>\n",
              "    </tr>\n",
              "    <tr>\n",
              "      <th>3</th>\n",
              "      <td>Rachel Martin talks with economist William Spr...</td>\n",
              "      <td>Economy</td>\n",
              "      <td>883</td>\n",
              "      <td>4304</td>\n",
              "      <td>4.874292</td>\n",
              "    </tr>\n",
              "    <tr>\n",
              "      <th>4</th>\n",
              "      <td>Bill Chappell \"We are ready for stores to open...</td>\n",
              "      <td>Economy</td>\n",
              "      <td>672</td>\n",
              "      <td>3211</td>\n",
              "      <td>4.778274</td>\n",
              "    </tr>\n",
              "  </tbody>\n",
              "</table>\n",
              "</div>"
            ],
            "text/plain": [
              "                                               clean  ... avg_word_len\n",
              "0  Juul Labs Inc. will pay $40 million to North C...  ...     5.167464\n",
              "1  Camila Domonoske An Uber sticker is seen on a ...  ...     5.114391\n",
              "2  Jim Zarroli Amazon founder Jeff Bezos is the w...  ...     4.978777\n",
              "3  Rachel Martin talks with economist William Spr...  ...     4.874292\n",
              "4  Bill Chappell \"We are ready for stores to open...  ...     4.778274\n",
              "\n",
              "[5 rows x 5 columns]"
            ]
          },
          "metadata": {},
          "execution_count": 137
        }
      ]
    },
    {
      "cell_type": "markdown",
      "metadata": {
        "id": "4b150846-9295-422e-b382-868376912890"
      },
      "source": [
        "### Stop Words Count"
      ],
      "id": "4b150846-9295-422e-b382-868376912890"
    },
    {
      "cell_type": "code",
      "metadata": {
        "id": "d234e935-e97f-4e35-bbaa-029a17029687"
      },
      "source": [
        "#stopwords  --> imported from spacy\n"
      ],
      "id": "d234e935-e97f-4e35-bbaa-029a17029687",
      "execution_count": 138,
      "outputs": []
    },
    {
      "cell_type": "code",
      "metadata": {
        "id": "4d5814ba-c045-4122-9550-becfe6950421"
      },
      "source": [
        "data2['stop_words_len'] = data2['clean'].apply(lambda x: len([t for t in x.split() if t in stopwords]))"
      ],
      "id": "4d5814ba-c045-4122-9550-becfe6950421",
      "execution_count": 139,
      "outputs": []
    },
    {
      "cell_type": "code",
      "metadata": {
        "id": "f0ba8c34-927b-4cdb-8ee8-d0c80cff34a8",
        "colab": {
          "base_uri": "https://localhost:8080/",
          "height": 0
        },
        "outputId": "1a737767-a56e-4a68-e54e-a9e10e320373"
      },
      "source": [
        "data2.head()"
      ],
      "id": "f0ba8c34-927b-4cdb-8ee8-d0c80cff34a8",
      "execution_count": 140,
      "outputs": [
        {
          "output_type": "execute_result",
          "data": {
            "text/html": [
              "<div>\n",
              "<style scoped>\n",
              "    .dataframe tbody tr th:only-of-type {\n",
              "        vertical-align: middle;\n",
              "    }\n",
              "\n",
              "    .dataframe tbody tr th {\n",
              "        vertical-align: top;\n",
              "    }\n",
              "\n",
              "    .dataframe thead th {\n",
              "        text-align: right;\n",
              "    }\n",
              "</style>\n",
              "<table border=\"1\" class=\"dataframe\">\n",
              "  <thead>\n",
              "    <tr style=\"text-align: right;\">\n",
              "      <th></th>\n",
              "      <th>clean</th>\n",
              "      <th>labels</th>\n",
              "      <th>word_counts</th>\n",
              "      <th>char_counts</th>\n",
              "      <th>avg_word_len</th>\n",
              "      <th>stop_words_len</th>\n",
              "    </tr>\n",
              "  </thead>\n",
              "  <tbody>\n",
              "    <tr>\n",
              "      <th>0</th>\n",
              "      <td>Juul Labs Inc. will pay $40 million to North C...</td>\n",
              "      <td>Economy</td>\n",
              "      <td>836</td>\n",
              "      <td>4320</td>\n",
              "      <td>5.167464</td>\n",
              "      <td>326</td>\n",
              "    </tr>\n",
              "    <tr>\n",
              "      <th>1</th>\n",
              "      <td>Camila Domonoske An Uber sticker is seen on a ...</td>\n",
              "      <td>Economy</td>\n",
              "      <td>271</td>\n",
              "      <td>1386</td>\n",
              "      <td>5.114391</td>\n",
              "      <td>104</td>\n",
              "    </tr>\n",
              "    <tr>\n",
              "      <th>2</th>\n",
              "      <td>Jim Zarroli Amazon founder Jeff Bezos is the w...</td>\n",
              "      <td>Economy</td>\n",
              "      <td>801</td>\n",
              "      <td>3988</td>\n",
              "      <td>4.978777</td>\n",
              "      <td>323</td>\n",
              "    </tr>\n",
              "    <tr>\n",
              "      <th>3</th>\n",
              "      <td>Rachel Martin talks with economist William Spr...</td>\n",
              "      <td>Economy</td>\n",
              "      <td>883</td>\n",
              "      <td>4304</td>\n",
              "      <td>4.874292</td>\n",
              "      <td>380</td>\n",
              "    </tr>\n",
              "    <tr>\n",
              "      <th>4</th>\n",
              "      <td>Bill Chappell \"We are ready for stores to open...</td>\n",
              "      <td>Economy</td>\n",
              "      <td>672</td>\n",
              "      <td>3211</td>\n",
              "      <td>4.778274</td>\n",
              "      <td>252</td>\n",
              "    </tr>\n",
              "  </tbody>\n",
              "</table>\n",
              "</div>"
            ],
            "text/plain": [
              "                                               clean  ... stop_words_len\n",
              "0  Juul Labs Inc. will pay $40 million to North C...  ...            326\n",
              "1  Camila Domonoske An Uber sticker is seen on a ...  ...            104\n",
              "2  Jim Zarroli Amazon founder Jeff Bezos is the w...  ...            323\n",
              "3  Rachel Martin talks with economist William Spr...  ...            380\n",
              "4  Bill Chappell \"We are ready for stores to open...  ...            252\n",
              "\n",
              "[5 rows x 6 columns]"
            ]
          },
          "metadata": {},
          "execution_count": 140
        }
      ]
    },
    {
      "cell_type": "markdown",
      "metadata": {
        "id": "c2ba3560-c424-43cc-9657-772265e6837a"
      },
      "source": [
        "### UPPER case words count"
      ],
      "id": "c2ba3560-c424-43cc-9657-772265e6837a"
    },
    {
      "cell_type": "code",
      "metadata": {
        "id": "ac6018ad-a1f3-416f-89e3-476125e19c9f"
      },
      "source": [
        "data2['upper_case_counts'] = data2['clean'].apply(lambda x: len([t for t in x.split() if t.isupper()]))"
      ],
      "id": "ac6018ad-a1f3-416f-89e3-476125e19c9f",
      "execution_count": 141,
      "outputs": []
    },
    {
      "cell_type": "code",
      "metadata": {
        "id": "2db82548-c876-4cab-8217-0f43637b7981",
        "colab": {
          "base_uri": "https://localhost:8080/",
          "height": 0
        },
        "outputId": "10a9a4a8-f16e-4bb5-d273-3ce679e6ac6d"
      },
      "source": [
        "data2.head(5)"
      ],
      "id": "2db82548-c876-4cab-8217-0f43637b7981",
      "execution_count": 142,
      "outputs": [
        {
          "output_type": "execute_result",
          "data": {
            "text/html": [
              "<div>\n",
              "<style scoped>\n",
              "    .dataframe tbody tr th:only-of-type {\n",
              "        vertical-align: middle;\n",
              "    }\n",
              "\n",
              "    .dataframe tbody tr th {\n",
              "        vertical-align: top;\n",
              "    }\n",
              "\n",
              "    .dataframe thead th {\n",
              "        text-align: right;\n",
              "    }\n",
              "</style>\n",
              "<table border=\"1\" class=\"dataframe\">\n",
              "  <thead>\n",
              "    <tr style=\"text-align: right;\">\n",
              "      <th></th>\n",
              "      <th>clean</th>\n",
              "      <th>labels</th>\n",
              "      <th>word_counts</th>\n",
              "      <th>char_counts</th>\n",
              "      <th>avg_word_len</th>\n",
              "      <th>stop_words_len</th>\n",
              "      <th>upper_case_counts</th>\n",
              "    </tr>\n",
              "  </thead>\n",
              "  <tbody>\n",
              "    <tr>\n",
              "      <th>0</th>\n",
              "      <td>Juul Labs Inc. will pay $40 million to North C...</td>\n",
              "      <td>Economy</td>\n",
              "      <td>836</td>\n",
              "      <td>4320</td>\n",
              "      <td>5.167464</td>\n",
              "      <td>326</td>\n",
              "      <td>7</td>\n",
              "    </tr>\n",
              "    <tr>\n",
              "      <th>1</th>\n",
              "      <td>Camila Domonoske An Uber sticker is seen on a ...</td>\n",
              "      <td>Economy</td>\n",
              "      <td>271</td>\n",
              "      <td>1386</td>\n",
              "      <td>5.114391</td>\n",
              "      <td>104</td>\n",
              "      <td>2</td>\n",
              "    </tr>\n",
              "    <tr>\n",
              "      <th>2</th>\n",
              "      <td>Jim Zarroli Amazon founder Jeff Bezos is the w...</td>\n",
              "      <td>Economy</td>\n",
              "      <td>801</td>\n",
              "      <td>3988</td>\n",
              "      <td>4.978777</td>\n",
              "      <td>323</td>\n",
              "      <td>8</td>\n",
              "    </tr>\n",
              "    <tr>\n",
              "      <th>3</th>\n",
              "      <td>Rachel Martin talks with economist William Spr...</td>\n",
              "      <td>Economy</td>\n",
              "      <td>883</td>\n",
              "      <td>4304</td>\n",
              "      <td>4.874292</td>\n",
              "      <td>380</td>\n",
              "      <td>31</td>\n",
              "    </tr>\n",
              "    <tr>\n",
              "      <th>4</th>\n",
              "      <td>Bill Chappell \"We are ready for stores to open...</td>\n",
              "      <td>Economy</td>\n",
              "      <td>672</td>\n",
              "      <td>3211</td>\n",
              "      <td>4.778274</td>\n",
              "      <td>252</td>\n",
              "      <td>4</td>\n",
              "    </tr>\n",
              "  </tbody>\n",
              "</table>\n",
              "</div>"
            ],
            "text/plain": [
              "                                               clean  ... upper_case_counts\n",
              "0  Juul Labs Inc. will pay $40 million to North C...  ...                 7\n",
              "1  Camila Domonoske An Uber sticker is seen on a ...  ...                 2\n",
              "2  Jim Zarroli Amazon founder Jeff Bezos is the w...  ...                 8\n",
              "3  Rachel Martin talks with economist William Spr...  ...                31\n",
              "4  Bill Chappell \"We are ready for stores to open...  ...                 4\n",
              "\n",
              "[5 rows x 7 columns]"
            ]
          },
          "metadata": {},
          "execution_count": 142
        }
      ]
    },
    {
      "cell_type": "markdown",
      "metadata": {
        "id": "402913b4-10af-4140-924a-5b852186e054"
      },
      "source": [
        "### Checking for URLs"
      ],
      "id": "402913b4-10af-4140-924a-5b852186e054"
    },
    {
      "cell_type": "code",
      "metadata": {
        "id": "6dcb727d-eb63-4769-bf2a-b2375c7ef986"
      },
      "source": [
        "data2['url_flags'] = data['clean'].apply(lambda x: len(re.findall(r'(http|https|ftp|ssh)://([\\w_-]+(?:(?:\\.[\\w_-]+)+))([\\w.,@?^=%&:/~+#-]*[\\w@?^=%&/~+#-])?', x)))"
      ],
      "id": "6dcb727d-eb63-4769-bf2a-b2375c7ef986",
      "execution_count": 143,
      "outputs": []
    },
    {
      "cell_type": "code",
      "metadata": {
        "id": "98975ead-4ce9-4eaa-a404-b3e2ca4845e0",
        "colab": {
          "base_uri": "https://localhost:8080/",
          "height": 0
        },
        "outputId": "0ca31d14-124a-4ccd-e7d7-fc6153308871"
      },
      "source": [
        "data2[data2['url_flags']>0]"
      ],
      "id": "98975ead-4ce9-4eaa-a404-b3e2ca4845e0",
      "execution_count": 144,
      "outputs": [
        {
          "output_type": "execute_result",
          "data": {
            "text/html": [
              "<div>\n",
              "<style scoped>\n",
              "    .dataframe tbody tr th:only-of-type {\n",
              "        vertical-align: middle;\n",
              "    }\n",
              "\n",
              "    .dataframe tbody tr th {\n",
              "        vertical-align: top;\n",
              "    }\n",
              "\n",
              "    .dataframe thead th {\n",
              "        text-align: right;\n",
              "    }\n",
              "</style>\n",
              "<table border=\"1\" class=\"dataframe\">\n",
              "  <thead>\n",
              "    <tr style=\"text-align: right;\">\n",
              "      <th></th>\n",
              "      <th>clean</th>\n",
              "      <th>labels</th>\n",
              "      <th>word_counts</th>\n",
              "      <th>char_counts</th>\n",
              "      <th>avg_word_len</th>\n",
              "      <th>stop_words_len</th>\n",
              "      <th>upper_case_counts</th>\n",
              "      <th>url_flags</th>\n",
              "    </tr>\n",
              "  </thead>\n",
              "  <tbody>\n",
              "    <tr>\n",
              "      <th>40</th>\n",
              "      <td>Bill Chappell A Gol Airlines Boeing 737 Max 8 ...</td>\n",
              "      <td>Economy</td>\n",
              "      <td>479</td>\n",
              "      <td>2449</td>\n",
              "      <td>5.112735</td>\n",
              "      <td>178</td>\n",
              "      <td>8</td>\n",
              "      <td>1</td>\n",
              "    </tr>\n",
              "    <tr>\n",
              "      <th>219</th>\n",
              "      <td>Andrew Limbong Conchata Ferrell at the 59th An...</td>\n",
              "      <td>Entertainment</td>\n",
              "      <td>371</td>\n",
              "      <td>1742</td>\n",
              "      <td>4.695418</td>\n",
              "      <td>139</td>\n",
              "      <td>10</td>\n",
              "      <td>1</td>\n",
              "    </tr>\n",
              "    <tr>\n",
              "      <th>241</th>\n",
              "      <td>Malaka Gharib Suzanne Nuyen Updated Saturday a...</td>\n",
              "      <td>Entertainment</td>\n",
              "      <td>1499</td>\n",
              "      <td>7471</td>\n",
              "      <td>4.983989</td>\n",
              "      <td>633</td>\n",
              "      <td>19</td>\n",
              "      <td>1</td>\n",
              "    </tr>\n",
              "    <tr>\n",
              "      <th>253</th>\n",
              "      <td>Danielle Kurtzleben On July 28 2020 Mattel ann...</td>\n",
              "      <td>Entertainment</td>\n",
              "      <td>1067</td>\n",
              "      <td>5136</td>\n",
              "      <td>4.813496</td>\n",
              "      <td>367</td>\n",
              "      <td>109</td>\n",
              "      <td>1</td>\n",
              "    </tr>\n",
              "    <tr>\n",
              "      <th>270</th>\n",
              "      <td>Etelka Lehoczky https://www.fantagraphics.com/...</td>\n",
              "      <td>Entertainment</td>\n",
              "      <td>849</td>\n",
              "      <td>4211</td>\n",
              "      <td>4.959953</td>\n",
              "      <td>358</td>\n",
              "      <td>2</td>\n",
              "      <td>1</td>\n",
              "    </tr>\n",
              "    <tr>\n",
              "      <th>429</th>\n",
              "      <td>Clare Lombardo Anya Kamenetz The current wave ...</td>\n",
              "      <td>Education</td>\n",
              "      <td>1143</td>\n",
              "      <td>5932</td>\n",
              "      <td>5.189851</td>\n",
              "      <td>455</td>\n",
              "      <td>8</td>\n",
              "      <td>1</td>\n",
              "    </tr>\n",
              "    <tr>\n",
              "      <th>442</th>\n",
              "      <td>Bill Chappell \"I find that I am bored with any...</td>\n",
              "      <td>Education</td>\n",
              "      <td>979</td>\n",
              "      <td>5191</td>\n",
              "      <td>5.302349</td>\n",
              "      <td>419</td>\n",
              "      <td>18</td>\n",
              "      <td>1</td>\n",
              "    </tr>\n",
              "    <tr>\n",
              "      <th>509</th>\n",
              "      <td>John Ydstie This map a screenshot from The Opp...</td>\n",
              "      <td>Education</td>\n",
              "      <td>1499</td>\n",
              "      <td>7872</td>\n",
              "      <td>5.251501</td>\n",
              "      <td>588</td>\n",
              "      <td>8</td>\n",
              "      <td>1</td>\n",
              "    </tr>\n",
              "    <tr>\n",
              "      <th>557</th>\n",
              "      <td>Matthew S. Schwartz West Virginia teachers wen...</td>\n",
              "      <td>Education</td>\n",
              "      <td>777</td>\n",
              "      <td>3876</td>\n",
              "      <td>4.988417</td>\n",
              "      <td>311</td>\n",
              "      <td>8</td>\n",
              "      <td>1</td>\n",
              "    </tr>\n",
              "    <tr>\n",
              "      <th>630</th>\n",
              "      <td>Dustin Jones Severe thunderstorms struck easte...</td>\n",
              "      <td>Environment</td>\n",
              "      <td>397</td>\n",
              "      <td>2188</td>\n",
              "      <td>5.511335</td>\n",
              "      <td>135</td>\n",
              "      <td>2</td>\n",
              "      <td>1</td>\n",
              "    </tr>\n",
              "    <tr>\n",
              "      <th>658</th>\n",
              "      <td>Tegan Wendland From The Royal Dutch Shell refi...</td>\n",
              "      <td>Environment</td>\n",
              "      <td>988</td>\n",
              "      <td>5120</td>\n",
              "      <td>5.182186</td>\n",
              "      <td>369</td>\n",
              "      <td>6</td>\n",
              "      <td>1</td>\n",
              "    </tr>\n",
              "    <tr>\n",
              "      <th>664</th>\n",
              "      <td>Alexander Tuerk Firefighters work to contain a...</td>\n",
              "      <td>Environment</td>\n",
              "      <td>727</td>\n",
              "      <td>3706</td>\n",
              "      <td>5.097662</td>\n",
              "      <td>293</td>\n",
              "      <td>14</td>\n",
              "      <td>2</td>\n",
              "    </tr>\n",
              "    <tr>\n",
              "      <th>667</th>\n",
              "      <td>Sam Gringlas Demonstrators stage a protest on ...</td>\n",
              "      <td>Environment</td>\n",
              "      <td>820</td>\n",
              "      <td>4262</td>\n",
              "      <td>5.197561</td>\n",
              "      <td>338</td>\n",
              "      <td>8</td>\n",
              "      <td>1</td>\n",
              "    </tr>\n",
              "    <tr>\n",
              "      <th>779</th>\n",
              "      <td>Jacob Pinter The climate change lawsuit inspir...</td>\n",
              "      <td>Environment</td>\n",
              "      <td>653</td>\n",
              "      <td>3254</td>\n",
              "      <td>4.983155</td>\n",
              "      <td>251</td>\n",
              "      <td>14</td>\n",
              "      <td>2</td>\n",
              "    </tr>\n",
              "    <tr>\n",
              "      <th>828</th>\n",
              "      <td>Bill Chappell Tony Finau and other top golfers...</td>\n",
              "      <td>Sports</td>\n",
              "      <td>725</td>\n",
              "      <td>3457</td>\n",
              "      <td>4.768276</td>\n",
              "      <td>304</td>\n",
              "      <td>15</td>\n",
              "      <td>1</td>\n",
              "    </tr>\n",
              "    <tr>\n",
              "      <th>830</th>\n",
              "      <td>Catherine Whelan Maia Chaka shown here officia...</td>\n",
              "      <td>Sports</td>\n",
              "      <td>295</td>\n",
              "      <td>1484</td>\n",
              "      <td>5.030508</td>\n",
              "      <td>114</td>\n",
              "      <td>10</td>\n",
              "      <td>1</td>\n",
              "    </tr>\n",
              "    <tr>\n",
              "      <th>913</th>\n",
              "      <td>Josie Fischels Gwen Berry turned away from the...</td>\n",
              "      <td>Sports</td>\n",
              "      <td>604</td>\n",
              "      <td>2948</td>\n",
              "      <td>4.880795</td>\n",
              "      <td>248</td>\n",
              "      <td>23</td>\n",
              "      <td>1</td>\n",
              "    </tr>\n",
              "    <tr>\n",
              "      <th>934</th>\n",
              "      <td>Laurel Wamsley Japan's Naomi Osaka eyes the ba...</td>\n",
              "      <td>Sports</td>\n",
              "      <td>844</td>\n",
              "      <td>4109</td>\n",
              "      <td>4.868483</td>\n",
              "      <td>361</td>\n",
              "      <td>14</td>\n",
              "      <td>2</td>\n",
              "    </tr>\n",
              "    <tr>\n",
              "      <th>1133</th>\n",
              "      <td>Bobby Allyn A work called Nyan Cat by Chris To...</td>\n",
              "      <td>Technology</td>\n",
              "      <td>1377</td>\n",
              "      <td>6588</td>\n",
              "      <td>4.784314</td>\n",
              "      <td>574</td>\n",
              "      <td>48</td>\n",
              "      <td>1</td>\n",
              "    </tr>\n",
              "    <tr>\n",
              "      <th>1178</th>\n",
              "      <td>Andrea Hsu Richard Wang who calls MLB games fo...</td>\n",
              "      <td>Technology</td>\n",
              "      <td>1294</td>\n",
              "      <td>6263</td>\n",
              "      <td>4.840031</td>\n",
              "      <td>553</td>\n",
              "      <td>42</td>\n",
              "      <td>1</td>\n",
              "    </tr>\n",
              "    <tr>\n",
              "      <th>1190</th>\n",
              "      <td>Reese Oxner John McAfee gives a speech in Augu...</td>\n",
              "      <td>Technology</td>\n",
              "      <td>814</td>\n",
              "      <td>3961</td>\n",
              "      <td>4.866093</td>\n",
              "      <td>328</td>\n",
              "      <td>14</td>\n",
              "      <td>1</td>\n",
              "    </tr>\n",
              "    <tr>\n",
              "      <th>1192</th>\n",
              "      <td>Shannon Bond Vanessa Romo Laurel Wamsley U.S. ...</td>\n",
              "      <td>Technology</td>\n",
              "      <td>615</td>\n",
              "      <td>3424</td>\n",
              "      <td>5.567480</td>\n",
              "      <td>231</td>\n",
              "      <td>11</td>\n",
              "      <td>1</td>\n",
              "    </tr>\n",
              "    <tr>\n",
              "      <th>1197</th>\n",
              "      <td>Philip Ewing Voters wait in line to cast their...</td>\n",
              "      <td>Technology</td>\n",
              "      <td>1478</td>\n",
              "      <td>7611</td>\n",
              "      <td>5.149526</td>\n",
              "      <td>652</td>\n",
              "      <td>6</td>\n",
              "      <td>1</td>\n",
              "    </tr>\n",
              "    <tr>\n",
              "      <th>1270</th>\n",
              "      <td>Sam Gringlas Pete Frates (seated center) parti...</td>\n",
              "      <td>Health</td>\n",
              "      <td>860</td>\n",
              "      <td>4144</td>\n",
              "      <td>4.818605</td>\n",
              "      <td>343</td>\n",
              "      <td>21</td>\n",
              "      <td>2</td>\n",
              "    </tr>\n",
              "    <tr>\n",
              "      <th>1340</th>\n",
              "      <td>Laurel Wamsley Australian airline Qantas is ex...</td>\n",
              "      <td>Health</td>\n",
              "      <td>754</td>\n",
              "      <td>3710</td>\n",
              "      <td>4.920424</td>\n",
              "      <td>305</td>\n",
              "      <td>6</td>\n",
              "      <td>1</td>\n",
              "    </tr>\n",
              "  </tbody>\n",
              "</table>\n",
              "</div>"
            ],
            "text/plain": [
              "                                                  clean  ... url_flags\n",
              "40    Bill Chappell A Gol Airlines Boeing 737 Max 8 ...  ...         1\n",
              "219   Andrew Limbong Conchata Ferrell at the 59th An...  ...         1\n",
              "241   Malaka Gharib Suzanne Nuyen Updated Saturday a...  ...         1\n",
              "253   Danielle Kurtzleben On July 28 2020 Mattel ann...  ...         1\n",
              "270   Etelka Lehoczky https://www.fantagraphics.com/...  ...         1\n",
              "429   Clare Lombardo Anya Kamenetz The current wave ...  ...         1\n",
              "442   Bill Chappell \"I find that I am bored with any...  ...         1\n",
              "509   John Ydstie This map a screenshot from The Opp...  ...         1\n",
              "557   Matthew S. Schwartz West Virginia teachers wen...  ...         1\n",
              "630   Dustin Jones Severe thunderstorms struck easte...  ...         1\n",
              "658   Tegan Wendland From The Royal Dutch Shell refi...  ...         1\n",
              "664   Alexander Tuerk Firefighters work to contain a...  ...         2\n",
              "667   Sam Gringlas Demonstrators stage a protest on ...  ...         1\n",
              "779   Jacob Pinter The climate change lawsuit inspir...  ...         2\n",
              "828   Bill Chappell Tony Finau and other top golfers...  ...         1\n",
              "830   Catherine Whelan Maia Chaka shown here officia...  ...         1\n",
              "913   Josie Fischels Gwen Berry turned away from the...  ...         1\n",
              "934   Laurel Wamsley Japan's Naomi Osaka eyes the ba...  ...         2\n",
              "1133  Bobby Allyn A work called Nyan Cat by Chris To...  ...         1\n",
              "1178  Andrea Hsu Richard Wang who calls MLB games fo...  ...         1\n",
              "1190  Reese Oxner John McAfee gives a speech in Augu...  ...         1\n",
              "1192  Shannon Bond Vanessa Romo Laurel Wamsley U.S. ...  ...         1\n",
              "1197  Philip Ewing Voters wait in line to cast their...  ...         1\n",
              "1270  Sam Gringlas Pete Frates (seated center) parti...  ...         2\n",
              "1340  Laurel Wamsley Australian airline Qantas is ex...  ...         1\n",
              "\n",
              "[25 rows x 8 columns]"
            ]
          },
          "metadata": {},
          "execution_count": 144
        }
      ]
    },
    {
      "cell_type": "code",
      "metadata": {
        "id": "88d101ae-279b-42ea-8265-e9d2bf481aa8",
        "colab": {
          "base_uri": "https://localhost:8080/"
        },
        "outputId": "db4741f6-ea1b-4eaf-86a0-563e1da2eace"
      },
      "source": [
        "# Checking how many rows has urls\n",
        "\n",
        "len(data2[data2['url_flags']>0])"
      ],
      "id": "88d101ae-279b-42ea-8265-e9d2bf481aa8",
      "execution_count": 145,
      "outputs": [
        {
          "output_type": "execute_result",
          "data": {
            "text/plain": [
              "25"
            ]
          },
          "metadata": {},
          "execution_count": 145
        }
      ]
    },
    {
      "cell_type": "markdown",
      "metadata": {
        "id": "3ff588b3-acdf-41ce-bc5e-cb19cd0b52a1"
      },
      "source": [
        "### Checking for emails"
      ],
      "id": "3ff588b3-acdf-41ce-bc5e-cb19cd0b52a1"
    },
    {
      "cell_type": "code",
      "metadata": {
        "id": "848ab925-6eb2-4723-b53f-e74ab8319780"
      },
      "source": [
        "data2['emails'] = data2['clean'].apply(lambda x: re.findall(r'([a-z0-9+._-]+@[a-z0-9+._-]+\\.[a-z0-9+_-]+\\b)', x))"
      ],
      "id": "848ab925-6eb2-4723-b53f-e74ab8319780",
      "execution_count": 146,
      "outputs": []
    },
    {
      "cell_type": "code",
      "metadata": {
        "id": "55c15835-21d9-4b4e-9fc3-80060dc9b342",
        "colab": {
          "base_uri": "https://localhost:8080/",
          "height": 0
        },
        "outputId": "fbd71293-8950-4aff-9749-cca8d575c701"
      },
      "source": [
        "data2.head()"
      ],
      "id": "55c15835-21d9-4b4e-9fc3-80060dc9b342",
      "execution_count": 147,
      "outputs": [
        {
          "output_type": "execute_result",
          "data": {
            "text/html": [
              "<div>\n",
              "<style scoped>\n",
              "    .dataframe tbody tr th:only-of-type {\n",
              "        vertical-align: middle;\n",
              "    }\n",
              "\n",
              "    .dataframe tbody tr th {\n",
              "        vertical-align: top;\n",
              "    }\n",
              "\n",
              "    .dataframe thead th {\n",
              "        text-align: right;\n",
              "    }\n",
              "</style>\n",
              "<table border=\"1\" class=\"dataframe\">\n",
              "  <thead>\n",
              "    <tr style=\"text-align: right;\">\n",
              "      <th></th>\n",
              "      <th>clean</th>\n",
              "      <th>labels</th>\n",
              "      <th>word_counts</th>\n",
              "      <th>char_counts</th>\n",
              "      <th>avg_word_len</th>\n",
              "      <th>stop_words_len</th>\n",
              "      <th>upper_case_counts</th>\n",
              "      <th>url_flags</th>\n",
              "      <th>emails</th>\n",
              "    </tr>\n",
              "  </thead>\n",
              "  <tbody>\n",
              "    <tr>\n",
              "      <th>0</th>\n",
              "      <td>Juul Labs Inc. will pay $40 million to North C...</td>\n",
              "      <td>Economy</td>\n",
              "      <td>836</td>\n",
              "      <td>4320</td>\n",
              "      <td>5.167464</td>\n",
              "      <td>326</td>\n",
              "      <td>7</td>\n",
              "      <td>0</td>\n",
              "      <td>[]</td>\n",
              "    </tr>\n",
              "    <tr>\n",
              "      <th>1</th>\n",
              "      <td>Camila Domonoske An Uber sticker is seen on a ...</td>\n",
              "      <td>Economy</td>\n",
              "      <td>271</td>\n",
              "      <td>1386</td>\n",
              "      <td>5.114391</td>\n",
              "      <td>104</td>\n",
              "      <td>2</td>\n",
              "      <td>0</td>\n",
              "      <td>[]</td>\n",
              "    </tr>\n",
              "    <tr>\n",
              "      <th>2</th>\n",
              "      <td>Jim Zarroli Amazon founder Jeff Bezos is the w...</td>\n",
              "      <td>Economy</td>\n",
              "      <td>801</td>\n",
              "      <td>3988</td>\n",
              "      <td>4.978777</td>\n",
              "      <td>323</td>\n",
              "      <td>8</td>\n",
              "      <td>0</td>\n",
              "      <td>[]</td>\n",
              "    </tr>\n",
              "    <tr>\n",
              "      <th>3</th>\n",
              "      <td>Rachel Martin talks with economist William Spr...</td>\n",
              "      <td>Economy</td>\n",
              "      <td>883</td>\n",
              "      <td>4304</td>\n",
              "      <td>4.874292</td>\n",
              "      <td>380</td>\n",
              "      <td>31</td>\n",
              "      <td>0</td>\n",
              "      <td>[]</td>\n",
              "    </tr>\n",
              "    <tr>\n",
              "      <th>4</th>\n",
              "      <td>Bill Chappell \"We are ready for stores to open...</td>\n",
              "      <td>Economy</td>\n",
              "      <td>672</td>\n",
              "      <td>3211</td>\n",
              "      <td>4.778274</td>\n",
              "      <td>252</td>\n",
              "      <td>4</td>\n",
              "      <td>0</td>\n",
              "      <td>[]</td>\n",
              "    </tr>\n",
              "  </tbody>\n",
              "</table>\n",
              "</div>"
            ],
            "text/plain": [
              "                                               clean   labels  ...  url_flags  emails\n",
              "0  Juul Labs Inc. will pay $40 million to North C...  Economy  ...          0      []\n",
              "1  Camila Domonoske An Uber sticker is seen on a ...  Economy  ...          0      []\n",
              "2  Jim Zarroli Amazon founder Jeff Bezos is the w...  Economy  ...          0      []\n",
              "3  Rachel Martin talks with economist William Spr...  Economy  ...          0      []\n",
              "4  Bill Chappell \"We are ready for stores to open...  Economy  ...          0      []\n",
              "\n",
              "[5 rows x 9 columns]"
            ]
          },
          "metadata": {},
          "execution_count": 147
        }
      ]
    },
    {
      "cell_type": "code",
      "metadata": {
        "id": "7ce5a229-a7ee-4181-801f-b0990d7508ca"
      },
      "source": [
        "data2['emails_count'] = data2['emails'].apply(lambda x: len(x))"
      ],
      "id": "7ce5a229-a7ee-4181-801f-b0990d7508ca",
      "execution_count": 148,
      "outputs": []
    },
    {
      "cell_type": "code",
      "metadata": {
        "id": "45bcb646-fcfb-4003-95f4-e13e80e5c8c8",
        "colab": {
          "base_uri": "https://localhost:8080/",
          "height": 0
        },
        "outputId": "cb5d99ad-e72d-4a40-f417-a6168ae6f60a"
      },
      "source": [
        "data2[data2['emails_count']>0]"
      ],
      "id": "45bcb646-fcfb-4003-95f4-e13e80e5c8c8",
      "execution_count": 149,
      "outputs": [
        {
          "output_type": "execute_result",
          "data": {
            "text/html": [
              "<div>\n",
              "<style scoped>\n",
              "    .dataframe tbody tr th:only-of-type {\n",
              "        vertical-align: middle;\n",
              "    }\n",
              "\n",
              "    .dataframe tbody tr th {\n",
              "        vertical-align: top;\n",
              "    }\n",
              "\n",
              "    .dataframe thead th {\n",
              "        text-align: right;\n",
              "    }\n",
              "</style>\n",
              "<table border=\"1\" class=\"dataframe\">\n",
              "  <thead>\n",
              "    <tr style=\"text-align: right;\">\n",
              "      <th></th>\n",
              "      <th>clean</th>\n",
              "      <th>labels</th>\n",
              "      <th>word_counts</th>\n",
              "      <th>char_counts</th>\n",
              "      <th>avg_word_len</th>\n",
              "      <th>stop_words_len</th>\n",
              "      <th>upper_case_counts</th>\n",
              "      <th>url_flags</th>\n",
              "      <th>emails</th>\n",
              "      <th>emails_count</th>\n",
              "    </tr>\n",
              "  </thead>\n",
              "  <tbody>\n",
              "    <tr>\n",
              "      <th>94</th>\n",
              "      <td>Janet W. Lee This story is adapted from Life K...</td>\n",
              "      <td>Economy</td>\n",
              "      <td>614</td>\n",
              "      <td>2893</td>\n",
              "      <td>4.711726</td>\n",
              "      <td>264</td>\n",
              "      <td>5</td>\n",
              "      <td>0</td>\n",
              "      <td>[it@npr.org]</td>\n",
              "      <td>1</td>\n",
              "    </tr>\n",
              "    <tr>\n",
              "      <th>410</th>\n",
              "      <td>Manoush Zomorodi Katie Monteleone Sanaz Meshki...</td>\n",
              "      <td>Education</td>\n",
              "      <td>200</td>\n",
              "      <td>1085</td>\n",
              "      <td>5.425000</td>\n",
              "      <td>70</td>\n",
              "      <td>5</td>\n",
              "      <td>0</td>\n",
              "      <td>[adio@npr.org]</td>\n",
              "      <td>1</td>\n",
              "    </tr>\n",
              "    <tr>\n",
              "      <th>639</th>\n",
              "      <td>Manoush Zomorodi Katie Monteleone SANAZ MESHKI...</td>\n",
              "      <td>Environment</td>\n",
              "      <td>244</td>\n",
              "      <td>1259</td>\n",
              "      <td>5.159836</td>\n",
              "      <td>85</td>\n",
              "      <td>9</td>\n",
              "      <td>0</td>\n",
              "      <td>[adio@npr.org]</td>\n",
              "      <td>1</td>\n",
              "    </tr>\n",
              "    <tr>\n",
              "      <th>680</th>\n",
              "      <td>Becky Harlan After scrutinizing nearly every a...</td>\n",
              "      <td>Environment</td>\n",
              "      <td>328</td>\n",
              "      <td>1598</td>\n",
              "      <td>4.871951</td>\n",
              "      <td>126</td>\n",
              "      <td>1</td>\n",
              "      <td>0</td>\n",
              "      <td>[it@npr.org]</td>\n",
              "      <td>1</td>\n",
              "    </tr>\n",
              "    <tr>\n",
              "      <th>1036</th>\n",
              "      <td>Andee Tagle This story is adapted from Life Ki...</td>\n",
              "      <td>Technology</td>\n",
              "      <td>598</td>\n",
              "      <td>2837</td>\n",
              "      <td>4.744147</td>\n",
              "      <td>257</td>\n",
              "      <td>2</td>\n",
              "      <td>0</td>\n",
              "      <td>[it@npr.org]</td>\n",
              "      <td>1</td>\n",
              "    </tr>\n",
              "    <tr>\n",
              "      <th>1055</th>\n",
              "      <td>Manoush Zomorodi James Delahoussaye Sanaz Mesh...</td>\n",
              "      <td>Technology</td>\n",
              "      <td>242</td>\n",
              "      <td>1272</td>\n",
              "      <td>5.256198</td>\n",
              "      <td>88</td>\n",
              "      <td>2</td>\n",
              "      <td>0</td>\n",
              "      <td>[adio@npr.org]</td>\n",
              "      <td>1</td>\n",
              "    </tr>\n",
              "    <tr>\n",
              "      <th>1094</th>\n",
              "      <td>Manoush Zomorodi HARRISON VIJAY TSUI Sanaz Mes...</td>\n",
              "      <td>Technology</td>\n",
              "      <td>198</td>\n",
              "      <td>1049</td>\n",
              "      <td>5.297980</td>\n",
              "      <td>65</td>\n",
              "      <td>7</td>\n",
              "      <td>0</td>\n",
              "      <td>[adio@npr.org]</td>\n",
              "      <td>1</td>\n",
              "    </tr>\n",
              "    <tr>\n",
              "      <th>1277</th>\n",
              "      <td>Richard Harris Attendees hold \"We Vape We Vote...</td>\n",
              "      <td>Health</td>\n",
              "      <td>783</td>\n",
              "      <td>4020</td>\n",
              "      <td>5.134100</td>\n",
              "      <td>313</td>\n",
              "      <td>6</td>\n",
              "      <td>0</td>\n",
              "      <td>[rharris@npr.org]</td>\n",
              "      <td>1</td>\n",
              "    </tr>\n",
              "    <tr>\n",
              "      <th>1280</th>\n",
              "      <td>Richard Harris Pseudomonas aeruginosa bacteria...</td>\n",
              "      <td>Health</td>\n",
              "      <td>1434</td>\n",
              "      <td>7199</td>\n",
              "      <td>5.020223</td>\n",
              "      <td>625</td>\n",
              "      <td>18</td>\n",
              "      <td>0</td>\n",
              "      <td>[rharris@npr.org]</td>\n",
              "      <td>1</td>\n",
              "    </tr>\n",
              "    <tr>\n",
              "      <th>1281</th>\n",
              "      <td>Richard Harris Alex at 4 years and 11 months o...</td>\n",
              "      <td>Health</td>\n",
              "      <td>1087</td>\n",
              "      <td>5102</td>\n",
              "      <td>4.693652</td>\n",
              "      <td>449</td>\n",
              "      <td>17</td>\n",
              "      <td>0</td>\n",
              "      <td>[rharris@npr.org]</td>\n",
              "      <td>1</td>\n",
              "    </tr>\n",
              "    <tr>\n",
              "      <th>1381</th>\n",
              "      <td>Richard Harris Researchers grew sheets of gene...</td>\n",
              "      <td>Health</td>\n",
              "      <td>1109</td>\n",
              "      <td>5350</td>\n",
              "      <td>4.824166</td>\n",
              "      <td>468</td>\n",
              "      <td>11</td>\n",
              "      <td>0</td>\n",
              "      <td>[rharris@npr.org]</td>\n",
              "      <td>1</td>\n",
              "    </tr>\n",
              "  </tbody>\n",
              "</table>\n",
              "</div>"
            ],
            "text/plain": [
              "                                                  clean  ... emails_count\n",
              "94    Janet W. Lee This story is adapted from Life K...  ...            1\n",
              "410   Manoush Zomorodi Katie Monteleone Sanaz Meshki...  ...            1\n",
              "639   Manoush Zomorodi Katie Monteleone SANAZ MESHKI...  ...            1\n",
              "680   Becky Harlan After scrutinizing nearly every a...  ...            1\n",
              "1036  Andee Tagle This story is adapted from Life Ki...  ...            1\n",
              "1055  Manoush Zomorodi James Delahoussaye Sanaz Mesh...  ...            1\n",
              "1094  Manoush Zomorodi HARRISON VIJAY TSUI Sanaz Mes...  ...            1\n",
              "1277  Richard Harris Attendees hold \"We Vape We Vote...  ...            1\n",
              "1280  Richard Harris Pseudomonas aeruginosa bacteria...  ...            1\n",
              "1281  Richard Harris Alex at 4 years and 11 months o...  ...            1\n",
              "1381  Richard Harris Researchers grew sheets of gene...  ...            1\n",
              "\n",
              "[11 rows x 10 columns]"
            ]
          },
          "metadata": {},
          "execution_count": 149
        }
      ]
    },
    {
      "cell_type": "code",
      "metadata": {
        "id": "5daa11e4-7ac4-4e70-b93f-b40639ff20b8",
        "colab": {
          "base_uri": "https://localhost:8080/"
        },
        "outputId": "0898f774-2a68-4830-f29b-9a64d37774fa"
      },
      "source": [
        "# Number of rows with emails\n",
        "\n",
        "len(data2[data2['emails_count']>0])"
      ],
      "id": "5daa11e4-7ac4-4e70-b93f-b40639ff20b8",
      "execution_count": 150,
      "outputs": [
        {
          "output_type": "execute_result",
          "data": {
            "text/plain": [
              "11"
            ]
          },
          "metadata": {},
          "execution_count": 150
        }
      ]
    },
    {
      "cell_type": "markdown",
      "metadata": {
        "id": "daed1a77-de88-4933-bfae-7ed11d179e3f"
      },
      "source": [
        "# Visual Analysis of Features"
      ],
      "id": "daed1a77-de88-4933-bfae-7ed11d179e3f"
    },
    {
      "cell_type": "code",
      "metadata": {
        "id": "4d200f1d-5d4f-44d8-9119-5d984c177ad7",
        "colab": {
          "base_uri": "https://localhost:8080/"
        },
        "outputId": "9f747db0-b2c0-45b4-a4fe-4e171056d65c"
      },
      "source": [
        "data2.columns"
      ],
      "id": "4d200f1d-5d4f-44d8-9119-5d984c177ad7",
      "execution_count": 152,
      "outputs": [
        {
          "output_type": "execute_result",
          "data": {
            "text/plain": [
              "Index(['clean', 'labels', 'word_counts', 'char_counts', 'avg_word_len',\n",
              "       'stop_words_len', 'upper_case_counts', 'url_flags', 'emails',\n",
              "       'emails_count'],\n",
              "      dtype='object')"
            ]
          },
          "metadata": {},
          "execution_count": 152
        }
      ]
    },
    {
      "cell_type": "code",
      "metadata": {
        "id": "efbb0e90"
      },
      "source": [
        "# # Let us write a function that will help us create boxplot and histogram for any input numerical\n",
        "# # variable.\n",
        "# # This function takes the numerical column as the input and returns the boxplots\n",
        "# # and histograms for the variable.\n",
        "# # Let us see if this help us write faster and cleaner code.\n",
        "# def histogram_boxplot(feature, figsize=(15, 10), bins=None):\n",
        "#     \"\"\"Boxplot and histogram combined\n",
        "#     feature: 1-d feature array\n",
        "#     figsize: size of fig (default (9,8))\n",
        "#     bins: number of bins (default None / auto)\n",
        "#     \"\"\"\n",
        "#     f2, (ax_box2, ax_hist2) = plt.subplots(\n",
        "#         nrows=2,  # Number of rows of the subplot grid= 2\n",
        "#         sharex=True,  # x-axis will be shared among all subplots\n",
        "#         gridspec_kw={\"height_ratios\": (0.25, 0.75)},\n",
        "#         figsize=figsize,\n",
        "#     )  # creating the 2 subplots\n",
        "#     sns.boxplot(\n",
        "#         feature, ax=ax_box2, showmeans=True, color=\"violet\"\n",
        "#     )  # boxplot will be created and a star will indicate the mean value of the column\n",
        "#     sns.distplot(\n",
        "#         feature, kde=F, ax=ax_hist2, bins=40, palette=\"winter\"\n",
        "#     ) if bins else sns.distplot(\n",
        "#         feature, kde=False, ax=ax_hist2\n",
        "#     )  # For histogram\n",
        "#     ax_hist2.axvline(\n",
        "#         np.mean(feature), color=\"green\", linestyle=\"--\"\n",
        "#     )  # Add mean to the histogram\n",
        "#     ax_hist2.axvline(\n",
        "#         np.median(feature), color=\"black\", linestyle=\"-\"\n",
        "#     )  # Add median to the histogram"
      ],
      "id": "efbb0e90",
      "execution_count": null,
      "outputs": []
    },
    {
      "cell_type": "code",
      "metadata": {
        "id": "283dc0ef"
      },
      "source": [
        "# Observations on Customer_age\n",
        "# histogram_boxplot(data2[\"word_counts\"])"
      ],
      "id": "283dc0ef",
      "execution_count": null,
      "outputs": []
    },
    {
      "cell_type": "code",
      "metadata": {
        "id": "996400cb"
      },
      "source": [
        "# Observations on Customer_age\n",
        "# histogram_boxplot(data2[\"avg_word_len\"]);"
      ],
      "id": "996400cb",
      "execution_count": null,
      "outputs": []
    },
    {
      "cell_type": "code",
      "metadata": {
        "id": "e2260e90"
      },
      "source": [
        "plt.figure(figsize=(20,20))\n",
        "\n",
        "sns.barplot(x='labels',y='word_counts',data=data2)\n",
        "plt.title('Word Counts by Label', fontsize=48)\n",
        "plt.xticks(fontsize=28, rotation=15)\n",
        "plt.xlabel('Labels', fontsize=36)\n",
        "plt.yticks(fontsize=28)\n",
        "plt.ylim(bottom=600, top=1600)\n",
        "plt.ylabel('Word Counts', fontsize=36)\n",
        "# plt.savefig('/content/drive/MyDrive/EiT/Week_6/Presentation_6/Visualizations/Label_WordCounts', transparent=True)\n",
        "plt.show()"
      ],
      "id": "e2260e90",
      "execution_count": null,
      "outputs": []
    },
    {
      "cell_type": "code",
      "metadata": {
        "id": "70a54f72"
      },
      "source": [
        "plt.figure(figsize=(20,20))\n",
        "sns.barplot(x='labels',y='avg_word_len',data=data2)\n",
        "plt.title('Average Word Length by Label', fontsize=48)\n",
        "plt.xticks(fontsize=28, rotation=15)\n",
        "plt.xlabel('Labels', fontsize=36)\n",
        "plt.ylim(bottom=4.7 , top=5)\n",
        "plt.yticks(ticks=[4.7, 4.8, 4.9, 5.0, 5.1], fontsize=28)\n",
        "plt.ylabel('Avg Word Length', fontsize=36)\n",
        "# plt.savefig('/content/drive/MyDrive/EiT/Week_6/Presentation_6/Visualizations/Label_Avg_Wrd_Len', transparent=True)\n",
        "plt.show()"
      ],
      "id": "70a54f72",
      "execution_count": null,
      "outputs": []
    },
    {
      "cell_type": "code",
      "metadata": {
        "id": "9989f121"
      },
      "source": [
        "# #plot data\n",
        "# fig, ax = plt.subplots(figsize=(15,7))\n",
        "# data2.groupby(['word_counts']).count()['labels'].plot(ax=ax)"
      ],
      "id": "9989f121",
      "execution_count": null,
      "outputs": []
    },
    {
      "cell_type": "code",
      "metadata": {
        "id": "3e31fd3c"
      },
      "source": [
        "samp1 = data2[data2['labels'] == 'Sports']\n",
        "max_1 = samp1['word_counts'].max()\n",
        "samp2 = data2[data2['labels'] == 'Entertainment']\n",
        "max_2 = samp2['word_counts'].max()\n",
        "\n",
        "plt.figure(figsize=(20,20))\n",
        "plt.title('Sports and Entertainment', fontsize=48)\n",
        "sns.kdeplot(data2[data2['labels']=='Sports']['word_counts'], shade=True, color='green',label='Sports')\n",
        "sns.kdeplot(data2[data2['labels']=='Entertainment']['word_counts'], shade=True, color='red', label='Entertainment')\n",
        "plt.legend(fontsize='xx-large')\n",
        "plt.xticks(ticks=range(0,10000,2000), fontsize=28)\n",
        "plt.xlabel('Word Counts', fontsize=36)\n",
        "plt.xlim(left=0, right=10000)\n",
        "plt.axvline(x=max_1, ymax=.25, color='green', linewidth=3)\n",
        "plt.axvline(x=max_2, ymax=.25, color='red', linewidth=3)\n",
        "plt.yticks(fontsize=28)\n",
        "plt.ylabel('Density', fontsize=36)\n",
        "# plt.savefig('/content/drive/MyDrive/EiT/Week_6/Presentation_6/Visualizations/Sports_v_Entertainment_Word_Counts', transparent=True)\n",
        "plt.show()"
      ],
      "id": "3e31fd3c",
      "execution_count": null,
      "outputs": []
    },
    {
      "cell_type": "code",
      "metadata": {
        "id": "faea6ce5"
      },
      "source": [
        "samp1 = data2[data2['labels'] == 'Economy']\n",
        "max_1 = samp1['word_counts'].max()\n",
        "samp2 = data2[data2['labels'] == 'Education']\n",
        "max_2 = samp2['word_counts'].max()\n",
        "\n",
        "plt.figure(figsize=(20,20))\n",
        "plt.title('Economy and Education', fontsize=48)\n",
        "\n",
        "sns.kdeplot(data2[data2['labels']=='Economy']['word_counts'], shade=True, color='red', label ='Economy')\n",
        "sns.kdeplot(data2[data2['labels']=='Education']['word_counts'], shade=True, color='green', label='Education')\n",
        "plt.legend(fontsize='xx-large')\n",
        "plt.xticks(ticks=range(0,8000,2000), fontsize=28)\n",
        "plt.xlabel('Word Counts', fontsize=36)\n",
        "plt.xlim(left=0, right=6000)\n",
        "plt.axvline(x=max_1, ymax=.25, color='red', linewidth=3 )\n",
        "plt.axvline(x=max_2, ymax=.25, color='green', linewidth=3)\n",
        "plt.yticks(fontsize=28)\n",
        "plt.ylabel('Density', fontsize=36)\n",
        "# plt.savefig('/content/drive/MyDrive/EiT/Week_6/Presentation_6/Visualizations/Economy_v_Education_Word_Counts', transparent=True)\n",
        "plt.show()"
      ],
      "id": "faea6ce5",
      "execution_count": null,
      "outputs": []
    },
    {
      "cell_type": "code",
      "metadata": {
        "id": "3a455d64"
      },
      "source": [
        "# plt.figure(figsize=(12,9))\n",
        "# plt.title('Entertainment and Education', fontsize=25)\n",
        "\n",
        "# sns.kdeplot(data2[data2['labels']=='Entertainment']['word_counts'], shade=True, color='magenta', label='Entertainment')\n",
        "# sns.kdeplot(data2[data2['labels']=='Education']['word_counts'], shade=True, color='blue', label='Education')\n",
        "# plt.legend()\n",
        "# plt.savefig('word_counts_class_labels.png')"
      ],
      "id": "3a455d64",
      "execution_count": null,
      "outputs": []
    },
    {
      "cell_type": "code",
      "metadata": {
        "id": "30543d0b"
      },
      "source": [
        "# plt.figure(figsize=(12,9))\n",
        "# plt.title('Economy and Entertainment', fontsize=25)\n",
        "\n",
        "# sns.kdeplot(data2[data2['labels']=='Economy']['word_counts'], shade=True, color='red', label='Economy')\n",
        "# sns.kdeplot(data2[data2['labels']=='Entertainment']['word_counts'], shade=True, color='magenta', label='Entertainment')\n",
        "# plt.legend()\n",
        "# plt.savefig('word_counts_class_labels.png')"
      ],
      "id": "30543d0b",
      "execution_count": null,
      "outputs": []
    },
    {
      "cell_type": "code",
      "metadata": {
        "id": "353ca7cf-2596-4d94-8501-5109ff4f3ea5"
      },
      "source": [
        "samp1 = data2[data2['labels'] == 'Economy']\n",
        "max_1 = samp1['word_counts'].max()\n",
        "samp2 = data2[data2['labels'] == 'Entertainment']\n",
        "max_2 = samp2['word_counts'].max()\n",
        "samp3 = data2[data2['labels'] == 'Education']\n",
        "max_3 = samp3['word_counts'].max()\n",
        "samp4 = data2[data2['labels'] == 'Environment']\n",
        "max_4 = samp4['word_counts'].max()\n",
        "samp5 = data2[data2['labels'] == 'Sports']\n",
        "max_5 = samp5['word_counts'].max()\n",
        "samp6 = data2[data2['labels'] == 'Technology']\n",
        "max_6 = samp6['word_counts'].max()\n",
        "samp7 = data2[data2['labels'] == 'Health']\n",
        "max_7 = samp7['word_counts'].max()\n",
        "\n",
        "\n",
        "plt.figure(figsize=(20,20))\n",
        "\n",
        "plt.title('Word Counts of all Labels', fontsize=48)\n",
        "sns.kdeplot(data2[data2['labels']=='Economy']['word_counts'], shade=True, color='red', label='Economy')\n",
        "sns.kdeplot(data2[data2['labels']=='Entertainment']['word_counts'], shade=True, color='magenta', label='Entertainment')\n",
        "sns.kdeplot(data2[data2['labels']=='Education']['word_counts'], shade=True, color='blue', label='Education')\n",
        "sns.kdeplot(data2[data2['labels']=='Environment']['word_counts'], shade=True, color='yellow', label ='Environment')\n",
        "sns.kdeplot(data2[data2['labels']=='Sports']['word_counts'], shade=True, color='green', label='Sports')\n",
        "sns.kdeplot(data2[data2['labels']=='Technology']['word_counts'], shade=True, color='purple',label='Technology')\n",
        "sns.kdeplot(data2[data2['labels']=='Health']['word_counts'], shade=True, color='skyblue', label='Health')\n",
        "plt.legend(fontsize='xx-large')\n",
        "plt.xticks(ticks=range(0,10000,2000), fontsize=28)\n",
        "plt.xlabel('Word Counts', fontsize=36)\n",
        "plt.xlim(left=0, right=8000)\n",
        "plt.axvline(x=max_1, ymax=.25, color='red', linewidth=3)\n",
        "plt.axvline(x=max_2, ymax=.25, color='magenta', linewidth=3)\n",
        "plt.axvline(x=max_3, ymax=.25, color='blue', linewidth=3)\n",
        "plt.axvline(x=max_4, ymax=.25, color='yellow', linewidth=3)\n",
        "plt.axvline(x=max_5, ymax=.25, color='green', linewidth=3)\n",
        "plt.axvline(x=max_6, ymax=.25, color='purple', linewidth=3)\n",
        "plt.axvline(x=max_7, ymax=.25, color='skyblue', linewidth=3)\n",
        "plt.yticks(fontsize=28)\n",
        "plt.ylabel('Density', fontsize=36)\n",
        "# plt.savefig('/content/drive/MyDrive/EiT/Week_6/Presentation_6/Visualizations/All_Label_Word_Counts', transparent=True)\n",
        "plt.show()"
      ],
      "id": "353ca7cf-2596-4d94-8501-5109ff4f3ea5",
      "execution_count": null,
      "outputs": []
    },
    {
      "cell_type": "code",
      "metadata": {
        "id": "eba77d92"
      },
      "source": [
        "samp1 = data2[data2['labels'] == 'Economy']\n",
        "max_1 = samp1['avg_word_len'].mean()\n",
        "samp2 = data2[data2['labels'] == 'Entertainment']\n",
        "max_2 = samp2['avg_word_len'].mean()\n",
        "samp3 = data2[data2['labels'] == 'Education']\n",
        "max_3 = samp3['avg_word_len'].mean()\n",
        "samp4 = data2[data2['labels'] == 'Environment']\n",
        "max_4 = samp4['avg_word_len'].mean()\n",
        "samp5 = data2[data2['labels'] == 'Sports']\n",
        "max_5 = samp5['avg_word_len'].mean()\n",
        "samp6 = data2[data2['labels'] == 'Technology']\n",
        "max_6 = samp6['avg_word_len'].mean()\n",
        "samp7 = data2[data2['labels'] == 'Health']\n",
        "max_7 = samp7['avg_word_len'].mean()\n",
        "\n",
        "plt.figure(figsize=(20,20))\n",
        "plt.title('Average Word Length by Label', fontsize=48)\n",
        "sns.kdeplot(data2[data2['labels']=='Economy']['avg_word_len'], shade=True, color='red', label='Economy')\n",
        "sns.kdeplot(data2[data2['labels']=='Entertainment']['avg_word_len'], shade=True, color='magenta', label='Entertainment')\n",
        "sns.kdeplot(data2[data2['labels']=='Education']['avg_word_len'], shade=True, color='blue', label='Education')\n",
        "sns.kdeplot(data2[data2['labels']=='Environment']['avg_word_len'], shade=True, color='yellow', label ='Environment')\n",
        "sns.kdeplot(data2[data2['labels']=='Sports']['avg_word_len'], shade=True, color= 'green', label='Sports')\n",
        "sns.kdeplot(data2[data2['labels']=='Technology']['avg_word_len'], shade=True, color='purple',label='Technology')\n",
        "sns.kdeplot(data2[data2['labels']=='Health']['avg_word_len'], shade=True, color='skyblue', label='Health')\n",
        "plt.legend(fontsize='xx-large')\n",
        "plt.xticks(fontsize=28)\n",
        "plt.xlabel('Avg Word Length', fontsize=36)\n",
        "# plt.xlim(left=0, right=8000)\n",
        "plt.axvline(x=max_1, ymax=.25, color='red', linewidth=3)\n",
        "plt.axvline(x=max_2, ymax=.25, color='magenta', linewidth=3)\n",
        "plt.axvline(x=max_3, ymax=.25, color='blue', linewidth=3)\n",
        "plt.axvline(x=max_4, ymax=.25, color='yellow', linewidth=3)\n",
        "plt.axvline(x=max_5, ymax=.25, color='green', linewidth=3)\n",
        "plt.axvline(x=max_6, ymax=.30, color='purple', linewidth=3)\n",
        "plt.axvline(x=max_7, ymax=.25, color='skyblue', linewidth=3)\n",
        "plt.yticks(fontsize=28)\n",
        "plt.ylabel('Density', fontsize=36)\n",
        "# plt.savefig('/content/drive/MyDrive/EiT/Week_6/Presentation_6/Visualizations/All_Label_Avg_Word_Length', transparent=True)\n",
        "plt.show()"
      ],
      "id": "eba77d92",
      "execution_count": null,
      "outputs": []
    },
    {
      "cell_type": "markdown",
      "metadata": {
        "id": "8b4e728e"
      },
      "source": [
        "## Correlation Matrix Table "
      ],
      "id": "8b4e728e"
    },
    {
      "cell_type": "code",
      "metadata": {
        "id": "868c2374",
        "outputId": "74ba5f1f-7ea5-4093-cb75-02715c5b26c0"
      },
      "source": [
        "data2.corr()"
      ],
      "id": "868c2374",
      "execution_count": null,
      "outputs": [
        {
          "data": {
            "text/html": [
              "<div>\n",
              "<style scoped>\n",
              "    .dataframe tbody tr th:only-of-type {\n",
              "        vertical-align: middle;\n",
              "    }\n",
              "\n",
              "    .dataframe tbody tr th {\n",
              "        vertical-align: top;\n",
              "    }\n",
              "\n",
              "    .dataframe thead th {\n",
              "        text-align: right;\n",
              "    }\n",
              "</style>\n",
              "<table border=\"1\" class=\"dataframe\">\n",
              "  <thead>\n",
              "    <tr style=\"text-align: right;\">\n",
              "      <th></th>\n",
              "      <th>word_counts</th>\n",
              "      <th>char_counts</th>\n",
              "      <th>avg_word_len</th>\n",
              "      <th>stop_words_len</th>\n",
              "      <th>upper_case_counts</th>\n",
              "      <th>url_flags</th>\n",
              "      <th>emails_count</th>\n",
              "    </tr>\n",
              "  </thead>\n",
              "  <tbody>\n",
              "    <tr>\n",
              "      <th>word_counts</th>\n",
              "      <td>1.000000</td>\n",
              "      <td>0.995529</td>\n",
              "      <td>-0.273109</td>\n",
              "      <td>0.994093</td>\n",
              "      <td>0.735941</td>\n",
              "      <td>-0.021236</td>\n",
              "      <td>-0.043360</td>\n",
              "    </tr>\n",
              "    <tr>\n",
              "      <th>char_counts</th>\n",
              "      <td>0.995529</td>\n",
              "      <td>1.000000</td>\n",
              "      <td>-0.211877</td>\n",
              "      <td>0.982884</td>\n",
              "      <td>0.701153</td>\n",
              "      <td>-0.017668</td>\n",
              "      <td>-0.045196</td>\n",
              "    </tr>\n",
              "    <tr>\n",
              "      <th>avg_word_len</th>\n",
              "      <td>-0.273109</td>\n",
              "      <td>-0.211877</td>\n",
              "      <td>1.000000</td>\n",
              "      <td>-0.315561</td>\n",
              "      <td>-0.371655</td>\n",
              "      <td>0.052690</td>\n",
              "      <td>0.034494</td>\n",
              "    </tr>\n",
              "    <tr>\n",
              "      <th>stop_words_len</th>\n",
              "      <td>0.994093</td>\n",
              "      <td>0.982884</td>\n",
              "      <td>-0.315561</td>\n",
              "      <td>1.000000</td>\n",
              "      <td>0.743969</td>\n",
              "      <td>-0.025802</td>\n",
              "      <td>-0.041693</td>\n",
              "    </tr>\n",
              "    <tr>\n",
              "      <th>upper_case_counts</th>\n",
              "      <td>0.735941</td>\n",
              "      <td>0.701153</td>\n",
              "      <td>-0.371655</td>\n",
              "      <td>0.743969</td>\n",
              "      <td>1.000000</td>\n",
              "      <td>-0.030679</td>\n",
              "      <td>-0.044695</td>\n",
              "    </tr>\n",
              "    <tr>\n",
              "      <th>url_flags</th>\n",
              "      <td>-0.021236</td>\n",
              "      <td>-0.017668</td>\n",
              "      <td>0.052690</td>\n",
              "      <td>-0.025802</td>\n",
              "      <td>-0.030679</td>\n",
              "      <td>1.000000</td>\n",
              "      <td>-0.011432</td>\n",
              "    </tr>\n",
              "    <tr>\n",
              "      <th>emails_count</th>\n",
              "      <td>-0.043360</td>\n",
              "      <td>-0.045196</td>\n",
              "      <td>0.034494</td>\n",
              "      <td>-0.041693</td>\n",
              "      <td>-0.044695</td>\n",
              "      <td>-0.011432</td>\n",
              "      <td>1.000000</td>\n",
              "    </tr>\n",
              "  </tbody>\n",
              "</table>\n",
              "</div>"
            ],
            "text/plain": [
              "                   word_counts  char_counts  avg_word_len  stop_words_len  \\\n",
              "word_counts           1.000000     0.995529     -0.273109        0.994093   \n",
              "char_counts           0.995529     1.000000     -0.211877        0.982884   \n",
              "avg_word_len         -0.273109    -0.211877      1.000000       -0.315561   \n",
              "stop_words_len        0.994093     0.982884     -0.315561        1.000000   \n",
              "upper_case_counts     0.735941     0.701153     -0.371655        0.743969   \n",
              "url_flags            -0.021236    -0.017668      0.052690       -0.025802   \n",
              "emails_count         -0.043360    -0.045196      0.034494       -0.041693   \n",
              "\n",
              "                   upper_case_counts  url_flags  emails_count  \n",
              "word_counts                 0.735941  -0.021236     -0.043360  \n",
              "char_counts                 0.701153  -0.017668     -0.045196  \n",
              "avg_word_len               -0.371655   0.052690      0.034494  \n",
              "stop_words_len              0.743969  -0.025802     -0.041693  \n",
              "upper_case_counts           1.000000  -0.030679     -0.044695  \n",
              "url_flags                  -0.030679   1.000000     -0.011432  \n",
              "emails_count               -0.044695  -0.011432      1.000000  "
            ]
          },
          "execution_count": 115,
          "metadata": {},
          "output_type": "execute_result"
        }
      ]
    },
    {
      "cell_type": "code",
      "metadata": {
        "id": "3d4a2341"
      },
      "source": [
        "#Plotting the correlation matrix in the heatmap.\n",
        "plt.figure(figsize=(15,7))\n",
        "corr= data2.corr()\n",
        "sns.heatmap(corr,annot= True,vmin=0,vmax=0.7, cmap='RdYlGn_r')"
      ],
      "id": "3d4a2341",
      "execution_count": null,
      "outputs": []
    },
    {
      "cell_type": "code",
      "metadata": {
        "id": "17b24838-9999-4a07-bde4-c48ead74074c"
      },
      "source": [
        "data2['labels'].unique()"
      ],
      "id": "17b24838-9999-4a07-bde4-c48ead74074c",
      "execution_count": null,
      "outputs": []
    },
    {
      "cell_type": "code",
      "metadata": {
        "id": "554b2366-0152-44a8-8e54-08b380f945bd"
      },
      "source": [
        "data2.head()"
      ],
      "id": "554b2366-0152-44a8-8e54-08b380f945bd",
      "execution_count": null,
      "outputs": []
    },
    {
      "cell_type": "code",
      "metadata": {
        "id": "a2b6e94b"
      },
      "source": [
        "data2.columns"
      ],
      "id": "a2b6e94b",
      "execution_count": null,
      "outputs": []
    },
    {
      "cell_type": "code",
      "metadata": {
        "scrolled": true,
        "id": "40ceb8e8"
      },
      "source": [
        "data2"
      ],
      "id": "40ceb8e8",
      "execution_count": null,
      "outputs": []
    },
    {
      "cell_type": "markdown",
      "metadata": {
        "id": "096e6ba9"
      },
      "source": [
        "## Saving clean dataframe `\"data2\"`"
      ],
      "id": "096e6ba9"
    },
    {
      "cell_type": "code",
      "metadata": {
        "colab": {
          "base_uri": "https://localhost:8080/"
        },
        "id": "7zz_E6yf58wl",
        "outputId": "d2a14651-f5be-453a-e986-da17ce8993b5"
      },
      "source": [
        "data2.columns"
      ],
      "id": "7zz_E6yf58wl",
      "execution_count": 160,
      "outputs": [
        {
          "output_type": "execute_result",
          "data": {
            "text/plain": [
              "Index(['clean', 'labels', 'word_counts', 'char_counts', 'avg_word_len',\n",
              "       'stop_words_len', 'upper_case_counts', 'url_flags', 'emails',\n",
              "       'emails_count'],\n",
              "      dtype='object')"
            ]
          },
          "metadata": {},
          "execution_count": 160
        }
      ]
    },
    {
      "cell_type": "code",
      "metadata": {
        "id": "PZIrPraZ5aDz"
      },
      "source": [
        "data2.drop(columns=['stop_words_len', 'upper_case_counts', 'url_flags', 'emails', 'emails_count'], inplace=True)"
      ],
      "id": "PZIrPraZ5aDz",
      "execution_count": 161,
      "outputs": []
    },
    {
      "cell_type": "code",
      "metadata": {
        "id": "punEndI06SY1"
      },
      "source": [
        "data2.head()"
      ],
      "id": "punEndI06SY1",
      "execution_count": null,
      "outputs": []
    },
    {
      "cell_type": "code",
      "metadata": {
        "id": "47abe05c"
      },
      "source": [
        "data2.to_csv('/content/drive/MyDrive/EiT/Week_6/Presentation_6/Datasets/clean_word_counts.csv',index=False)"
      ],
      "id": "47abe05c",
      "execution_count": 163,
      "outputs": []
    },
    {
      "cell_type": "markdown",
      "metadata": {
        "id": "30c0fe43"
      },
      "source": [
        "## Creating Wordcloud"
      ],
      "id": "30c0fe43"
    },
    {
      "cell_type": "code",
      "metadata": {
        "id": "34147f4d-3d81-4902-87d7-659ea2a467f7"
      },
      "source": [
        "#!pip3 install wordcloud"
      ],
      "id": "34147f4d-3d81-4902-87d7-659ea2a467f7",
      "execution_count": null,
      "outputs": []
    },
    {
      "cell_type": "code",
      "metadata": {
        "id": "840a6a98",
        "outputId": "2a41eace-8487-4c7a-a12e-4d8c59a1abc1"
      },
      "source": [
        "import sys\n",
        "print(sys.executable)"
      ],
      "id": "840a6a98",
      "execution_count": null,
      "outputs": [
        {
          "name": "stdout",
          "output_type": "stream",
          "text": [
            "C:\\ProgramData\\Anaconda3\\envs\\datascience\\python.exe\n"
          ]
        }
      ]
    },
    {
      "cell_type": "code",
      "metadata": {
        "id": "99be5feb-5343-4010-9faa-94c88c4ddee8"
      },
      "source": [
        "from wordcloud import WordCloud\n",
        "import matplotlib.pyplot as plt\n",
        "%matplotlib inline"
      ],
      "id": "99be5feb-5343-4010-9faa-94c88c4ddee8",
      "execution_count": 164,
      "outputs": []
    },
    {
      "cell_type": "code",
      "metadata": {
        "id": "6d1678af-ee87-4b6a-a6a0-536881c5a9ad"
      },
      "source": [
        "text = ' '.join(data2['clean'])"
      ],
      "id": "6d1678af-ee87-4b6a-a6a0-536881c5a9ad",
      "execution_count": 165,
      "outputs": []
    },
    {
      "cell_type": "code",
      "metadata": {
        "id": "0015d91e-539f-4e9e-ae52-c05692524d38",
        "colab": {
          "base_uri": "https://localhost:8080/"
        },
        "outputId": "e062da70-1375-4ef2-dee1-a1ca2fd47159"
      },
      "source": [
        "len(text)"
      ],
      "id": "0015d91e-539f-4e9e-ae52-c05692524d38",
      "execution_count": 166,
      "outputs": [
        {
          "output_type": "execute_result",
          "data": {
            "text/plain": [
              "8084906"
            ]
          },
          "metadata": {},
          "execution_count": 166
        }
      ]
    },
    {
      "cell_type": "code",
      "metadata": {
        "id": "a0f1bfca-eafb-4abe-aedf-45903fe7ad33"
      },
      "source": [
        "plt.figure(figsize=(20,20))\n",
        "# plt.title('WordCloud', fontsize=40)\n",
        "wc = WordCloud(width=1600, height=800).generate(text)\n",
        "plt.imshow(wc)\n",
        "plt.axis('off')\n",
        "plt.tight_layout(pad=0)\n",
        "plt.savefig('/content/drive/MyDrive/EiT/Week_6/Presentation_6/Full_WordCloud', transparent=True)\n",
        "plt.show()"
      ],
      "id": "a0f1bfca-eafb-4abe-aedf-45903fe7ad33",
      "execution_count": null,
      "outputs": []
    }
  ]
}